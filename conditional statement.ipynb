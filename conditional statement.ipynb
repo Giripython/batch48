{
 "cells": [
  {
   "cell_type": "code",
   "execution_count": 2,
   "metadata": {},
   "outputs": [
    {
     "name": "stdout",
     "output_type": "stream",
     "text": [
      "enter age:23\n",
      "23\n"
     ]
    }
   ],
   "source": [
    "age=raw_input (\"enter age:\")\n",
    "print age"
   ]
  },
  {
   "cell_type": "code",
   "execution_count": 4,
   "metadata": {},
   "outputs": [
    {
     "ename": "SyntaxError",
     "evalue": "EOL while scanning string literal (<ipython-input-4-85bc8408851d>, line 1)",
     "output_type": "error",
     "traceback": [
      "\u001b[1;36m  File \u001b[1;32m\"<ipython-input-4-85bc8408851d>\"\u001b[1;36m, line \u001b[1;32m1\u001b[0m\n\u001b[1;33m    a=raw_input (\"enter an age:)\u001b[0m\n\u001b[1;37m                               ^\u001b[0m\n\u001b[1;31mSyntaxError\u001b[0m\u001b[1;31m:\u001b[0m EOL while scanning string literal\n"
     ]
    }
   ],
   "source": [
    "a=raw_input (\"enter an age:)\n",
    "print \"eligible for marriage\"\n",
    "print a=>b\n",
    "k             \n",
    "\n"
   ]
  },
  {
   "cell_type": "code",
   "execution_count": 15,
   "metadata": {},
   "outputs": [
    {
     "name": "stdout",
     "output_type": "stream",
     "text": [
      "enter the a value:10\n",
      "enter the b value:20\n",
      "enter the b value:30\n",
      "c is big\n",
      "thank you\n"
     ]
    }
   ],
   "source": [
    "a=raw_input(\"enter the a value:\")\n",
    "b=raw_input(\"enter the b value:\")\n",
    "c=raw_input(\"enter the b value:\")\n",
    "a=int(a)\n",
    "b=int(b)\n",
    "c=int(c)\n",
    "if a>b and a>c:        \n",
    "  print \"a is big\"\n",
    "if b>a and b>c:\n",
    "   print \"b is big\"     \n",
    "if c>a and c>b:  \n",
    "    print \"c is big\"\n",
    "print \"thank you\"    \n"
   ]
  },
  {
   "cell_type": "code",
   "execution_count": 16,
   "metadata": {},
   "outputs": [
    {
     "name": "stdout",
     "output_type": "stream",
     "text": [
      "operating systems:\n"
     ]
    }
   ],
   "source": [
    "print \"operating systems:\"\n"
   ]
  },
  {
   "cell_type": "code",
   "execution_count": 17,
   "metadata": {},
   "outputs": [
    {
     "name": "stdout",
     "output_type": "stream",
     "text": [
      "operating systems:\n",
      "1.windows\n"
     ]
    }
   ],
   "source": [
    "print \"operating systems:\\n1.windows\"\n"
   ]
  },
  {
   "cell_type": "code",
   "execution_count": 18,
   "metadata": {},
   "outputs": [
    {
     "name": "stdout",
     "output_type": "stream",
     "text": [
      "operating systems:\n",
      "\t1.windows\n"
     ]
    }
   ],
   "source": [
    "print \"operating systems:\\n\\t1.windows\"\n"
   ]
  },
  {
   "cell_type": "code",
   "execution_count": 20,
   "metadata": {},
   "outputs": [
    {
     "name": "stdout",
     "output_type": "stream",
     "text": [
      "operating systems:\n",
      "\t1.windows:\n",
      "\t2.andriod:\n",
      "\t3.mac:\n",
      "\n",
      "enter option:1\n"
     ]
    }
   ],
   "source": [
    "print \"operating systems:\\n\\t1.windows:\\n\\t2.andriod:\\n\\t3.mac:\\n\"\n",
    "option =raw_input (\"enter option:\")"
   ]
  },
  {
   "cell_type": "code",
   "execution_count": null,
   "metadata": {},
   "outputs": [],
   "source": [
    "print \"operating systems:\\n\\t1.windows:\\n\\t2.andriod:\\n\\t3.mac:\\n\"\n",
    "option =raw_input (\"enter option:\")\n",
    "if option==\"1\"\n",
    "    print (go to)"
   ]
  }
 ],
 "metadata": {
  "kernelspec": {
   "display_name": "Python 2",
   "language": "python",
   "name": "python2"
  },
  "language_info": {
   "codemirror_mode": {
    "name": "ipython",
    "version": 2
   },
   "file_extension": ".py",
   "mimetype": "text/x-python",
   "name": "python",
   "nbconvert_exporter": "python",
   "pygments_lexer": "ipython2",
   "version": "2.7.15"
  }
 },
 "nbformat": 4,
 "nbformat_minor": 2
}
