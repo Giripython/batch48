{
 "cells": [
  {
   "cell_type": "code",
   "execution_count": 10,
   "metadata": {},
   "outputs": [
    {
     "name": "stdout",
     "output_type": "stream",
     "text": [
      "good morning students\n",
      "welcome to hyderabad\n",
      "thnak Q\n"
     ]
    }
   ],
   "source": [
    "print \"good morning students\"\n",
    "i=0\n",
    "if i<0:\n",
    "    print i\n",
    "    i=i+1\n",
    "print \"welcome to hyderabad\"\n",
    "print \"thnak Q\""
   ]
  },
  {
   "cell_type": "code",
   "execution_count": 7,
   "metadata": {},
   "outputs": [
    {
     "name": "stdout",
     "output_type": "stream",
     "text": [
      "program started\n",
      "0\n",
      "other statements in program\n",
      "program ended\n"
     ]
    }
   ],
   "source": [
    "\n",
    "print \"program started\"\n",
    "i=0\n",
    "if i<10:\n",
    "    print i\n",
    "    i=i+1\n",
    "print \"other statements in program\"\n",
    "print \"program ended\""
   ]
  },
  {
   "cell_type": "code",
   "execution_count": 11,
   "metadata": {},
   "outputs": [
    {
     "name": "stdout",
     "output_type": "stream",
     "text": [
      "welcome to hyderabad\n",
      "0\n",
      "1\n",
      "2\n",
      "3\n",
      "4\n",
      "5\n",
      "6\n",
      "7\n",
      "8\n",
      "9\n",
      "thnak Q\n"
     ]
    }
   ],
   "source": [
    "print \"welcome to hyderabad\"\n",
    "i=0\n",
    "while i<10:\n",
    "    print i \n",
    "    i=i+1\n",
    "print \"thnak Q\""
   ]
  },
  {
   "cell_type": "code",
   "execution_count": 12,
   "metadata": {},
   "outputs": [
    {
     "name": "stdout",
     "output_type": "stream",
     "text": [
      "welcome to hyderabad\n",
      "0\n",
      "1\n",
      "2\n",
      "3\n",
      "4\n",
      "5\n",
      "6\n",
      "7\n",
      "8\n",
      "9\n",
      "welcome to hyderabad\n",
      "thnak Q\n"
     ]
    }
   ],
   "source": [
    "print \"welcome to hyderabad\"\n",
    "i=0\n",
    "while i<10:\n",
    "    print i \n",
    "    i=i+1\n",
    "print \"welcome to hyderabad\"\n",
    "print \"thnak Q\""
   ]
  },
  {
   "cell_type": "code",
   "execution_count": 15,
   "metadata": {},
   "outputs": [
    {
     "name": "stdout",
     "output_type": "stream",
     "text": [
      "welcome to hyderabad\n",
      "0\n",
      "1\n",
      "2\n",
      "i am going to hyderabad\n",
      "best of luck\n"
     ]
    }
   ],
   "source": [
    "print \"welcome to hyderabad\"\n",
    "i=0\n",
    "while i<3:\n",
    "    print i\n",
    "    i=i+1\n",
    "print \"i am going to hyderabad\"\n",
    "print \"best of luck\""
   ]
  }
 ],
 "metadata": {
  "kernelspec": {
   "display_name": "Python 2",
   "language": "python",
   "name": "python2"
  },
  "language_info": {
   "codemirror_mode": {
    "name": "ipython",
    "version": 2
   },
   "file_extension": ".py",
   "mimetype": "text/x-python",
   "name": "python",
   "nbconvert_exporter": "python",
   "pygments_lexer": "ipython2",
   "version": "2.7.15"
  }
 },
 "nbformat": 4,
 "nbformat_minor": 2
}
