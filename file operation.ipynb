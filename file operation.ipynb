{
 "cells": [
  {
   "cell_type": "code",
   "execution_count": 1,
   "metadata": {},
   "outputs": [],
   "source": [
    "f=open(\"data.cvs\",\"w\")"
   ]
  },
  {
   "cell_type": "code",
   "execution_count": 2,
   "metadata": {},
   "outputs": [],
   "source": [
    "f.write(\"some data\")"
   ]
  },
  {
   "cell_type": "code",
   "execution_count": 3,
   "metadata": {},
   "outputs": [],
   "source": [
    "f.close()"
   ]
  },
  {
   "cell_type": "code",
   "execution_count": 4,
   "metadata": {},
   "outputs": [
    {
     "data": {
      "text/plain": [
       "u'D:\\\\batch48'"
      ]
     },
     "execution_count": 4,
     "metadata": {},
     "output_type": "execute_result"
    }
   ],
   "source": [
    "pwd"
   ]
  },
  {
   "cell_type": "code",
   "execution_count": 6,
   "metadata": {},
   "outputs": [],
   "source": [
    "f=open(\"data.cvs\",\"w\")\n",
    "f.write(\"some data\")\n",
    "f.close()"
   ]
  },
  {
   "cell_type": "code",
   "execution_count": 39,
   "metadata": {},
   "outputs": [
    {
     "name": "stdout",
     "output_type": "stream",
     "text": [
      "enter person name:giri\n",
      "enter person id:21\n",
      "enter person mobile no:8686\n"
     ]
    }
   ],
   "source": [
    "f=open(\"data.cvs\",\"w\")\n",
    "try:\n",
    "    f.write(\"name,id,mobile\\n\")\n",
    "    p_name=raw_input(\"enter person name:\")\n",
    "    p_id=raw_input(\"enter person id:\")\n",
    "    p_mobile=raw_input(\"enter person mobile no:\")\n",
    "    row=\"%s,%s,%s\"%(p_name,p_id,p_mobile)\n",
    "    f.write (row)\n",
    "except Exception as err:\n",
    "    print err\n",
    "finally:\n",
    "    f.close()\n",
    "\n",
    "\n"
   ]
  },
  {
   "cell_type": "code",
   "execution_count": 42,
   "metadata": {},
   "outputs": [
    {
     "name": "stdout",
     "output_type": "stream",
     "text": [
      "enter person name:yamuna\n",
      "enter person age:22\n",
      "enter person height:5.6\n",
      "enter person place:vijayawada\n"
     ]
    }
   ],
   "source": [
    "f=open(\"data.cvs\",\"w\")\n",
    "try:\n",
    "    f.write(\"name,age,height,place\\n\")\n",
    "    person_name=raw_input(\"enter person name:\")\n",
    "    person_age=raw_input(\"enter person age:\")\n",
    "    person_height=raw_input(\"enter person height:\")\n",
    "    person_place=raw_input(\"enter person place:\")\n",
    "    total=\" %s, %s ,%s ,%s\" %( person_name,person_age,person_height,person_place)\n",
    "    f.write(total)\n",
    "except Exception as err:\n",
    "    print err\n",
    "finally:\n",
    "    f.close()"
   ]
  },
  {
   "cell_type": "code",
   "execution_count": 43,
   "metadata": {},
   "outputs": [
    {
     "name": "stdout",
     "output_type": "stream",
     "text": [
      "enter person name:giri\n",
      "enter person age:25\n",
      "enter person height:5.7\n",
      "enter person place:hyderabad\n"
     ]
    }
   ],
   "source": [
    "f=open(\"data.cvs\",\"w\")\n",
    "try:\n",
    "    f.write(\"name,age,height,place\\n\")\n",
    "    person_name=raw_input(\"enter person name:\")\n",
    "    person_age=raw_input(\"enter person age:\")\n",
    "    person_height=raw_input(\"enter person height:\")\n",
    "    person_place=raw_input(\"enter person place:\")\n",
    "    total=\" %s, %s ,%s ,%s\" %( person_name,person_age,person_height,person_place)\n",
    "    f.write(total)\n",
    "except Exception as err:\n",
    "    print err\n",
    "finally:\n",
    "    f.close()"
   ]
  },
  {
   "cell_type": "code",
   "execution_count": 44,
   "metadata": {},
   "outputs": [
    {
     "name": "stdout",
     "output_type": "stream",
     "text": [
      "enter person name:radha\n",
      "enter person age:26\n",
      "enter person height:4.5\n",
      "enter person place:mahaboob nagar\n"
     ]
    }
   ],
   "source": [
    "f=open(\"data.cvs\",\"w\")\n",
    "try:\n",
    "    f.write(\"name,age,height,place\\n\")\n",
    "    person_name=raw_input(\"enter person name:\")\n",
    "    person_age=raw_input(\"enter person age:\")\n",
    "    person_height=raw_input(\"enter person height:\")\n",
    "    person_place=raw_input(\"enter person place:\")\n",
    "    total=\" %s, %s ,%s ,%s\" %( person_name,person_age,person_height,person_place)\n",
    "    f.write(total)\n",
    "except Exception as err:\n",
    "    print err\n",
    "finally:\n",
    "    f.close()"
   ]
  },
  {
   "cell_type": "code",
   "execution_count": 48,
   "metadata": {},
   "outputs": [
    {
     "ename": "IOError",
     "evalue": "[Errno 2] No such file or directory: 'data.csvr'",
     "output_type": "error",
     "traceback": [
      "\u001b[1;31m---------------------------------------------------------------------------\u001b[0m",
      "\u001b[1;31mIOError\u001b[0m                                   Traceback (most recent call last)",
      "\u001b[1;32m<ipython-input-48-795c08464831>\u001b[0m in \u001b[0;36m<module>\u001b[1;34m()\u001b[0m\n\u001b[1;32m----> 1\u001b[1;33m \u001b[0mf\u001b[0m\u001b[1;33m=\u001b[0m\u001b[0mopen\u001b[0m\u001b[1;33m(\u001b[0m\u001b[1;34m\"data.csv\"\u001b[0m\u001b[1;34m\"r\"\u001b[0m\u001b[1;33m)\u001b[0m\u001b[1;33m\u001b[0m\u001b[0m\n\u001b[0m",
      "\u001b[1;31mIOError\u001b[0m: [Errno 2] No such file or directory: 'data.csvr'"
     ]
    }
   ],
   "source": [
    "f=open(\"data.csv\",\"r\")"
   ]
  },
  {
   "cell_type": "code",
   "execution_count": 51,
   "metadata": {},
   "outputs": [
    {
     "ename": "ValueError",
     "evalue": "I/O operation on closed file",
     "output_type": "error",
     "traceback": [
      "\u001b[1;31m---------------------------------------------------------------------------\u001b[0m",
      "\u001b[1;31mValueError\u001b[0m                                Traceback (most recent call last)",
      "\u001b[1;32m<ipython-input-51-9a99aa46b732>\u001b[0m in \u001b[0;36m<module>\u001b[1;34m()\u001b[0m\n\u001b[1;32m----> 1\u001b[1;33m \u001b[0mf\u001b[0m\u001b[1;33m.\u001b[0m\u001b[0mwrite\u001b[0m\u001b[1;33m(\u001b[0m\u001b[1;34m'some data'\u001b[0m\u001b[1;33m)\u001b[0m\u001b[1;33m\u001b[0m\u001b[0m\n\u001b[0m",
      "\u001b[1;31mValueError\u001b[0m: I/O operation on closed file"
     ]
    }
   ],
   "source": [
    "f.write('some data')"
   ]
  },
  {
   "cell_type": "code",
   "execution_count": 52,
   "metadata": {},
   "outputs": [
    {
     "ename": "IOError",
     "evalue": "[Errno 2] No such file or directory: 'data2.csv'",
     "output_type": "error",
     "traceback": [
      "\u001b[1;31m---------------------------------------------------------------------------\u001b[0m",
      "\u001b[1;31mIOError\u001b[0m                                   Traceback (most recent call last)",
      "\u001b[1;32m<ipython-input-52-76201501a511>\u001b[0m in \u001b[0;36m<module>\u001b[1;34m()\u001b[0m\n\u001b[1;32m----> 1\u001b[1;33m \u001b[0mf\u001b[0m\u001b[1;33m=\u001b[0m\u001b[0mopen\u001b[0m\u001b[1;33m(\u001b[0m\u001b[1;34m\"data2.csv\"\u001b[0m\u001b[1;33m,\u001b[0m\u001b[1;34m\"r\"\u001b[0m\u001b[1;33m)\u001b[0m\u001b[1;33m\u001b[0m\u001b[0m\n\u001b[0m",
      "\u001b[1;31mIOError\u001b[0m: [Errno 2] No such file or directory: 'data2.csv'"
     ]
    }
   ],
   "source": [
    "f=open(\"data2.csv\",\"r\")"
   ]
  },
  {
   "cell_type": "code",
   "execution_count": 54,
   "metadata": {},
   "outputs": [
    {
     "name": "stdout",
     "output_type": "stream",
     "text": [
      "[Errno 2] No such file or directory: 'data2.csv'\n"
     ]
    }
   ],
   "source": [
    "try:\n",
    "    f=open(\"data2.csv\",\"r\")\n",
    "except IOError as err:\n",
    "    print err\n",
    "finally:\n",
    "    f.close()"
   ]
  },
  {
   "cell_type": "code",
   "execution_count": 55,
   "metadata": {},
   "outputs": [
    {
     "name": "stdout",
     "output_type": "stream",
     "text": [
      "[Errno 2] No such file or directory: 'data2.csv'\n"
     ]
    }
   ],
   "source": [
    "try:\n",
    "    f=open(\"data2.csv\",\"r\")\n",
    "    data=f.read()\n",
    "    print data\n",
    "    print type(data)\n",
    "except IOError as err:\n",
    "    print err\n",
    "finally:\n",
    "    f.close()"
   ]
  },
  {
   "cell_type": "code",
   "execution_count": 57,
   "metadata": {},
   "outputs": [
    {
     "name": "stdout",
     "output_type": "stream",
     "text": [
      "[Errno 2] No such file or directory: 'data.csv'\n"
     ]
    }
   ],
   "source": [
    "try:\n",
    "    f=open(\"data.csv\",\"r\")\n",
    "    data=f.read()\n",
    "    print data\n",
    "    print type(data)\n",
    "except IOError as err:\n",
    "    print err\n",
    "finally:\n",
    "    f.close()"
   ]
  },
  {
   "cell_type": "code",
   "execution_count": 58,
   "metadata": {},
   "outputs": [
    {
     "name": "stdout",
     "output_type": "stream",
     "text": [
      "[Errno 2] No such file or directory: 'data.csv'\n"
     ]
    }
   ],
   "source": [
    "try:\n",
    "    f=open(\"data.csv\",\"r\")\n",
    "    data=f.read()\n",
    "    print data\n",
    "    print type(data)\n",
    "except IOError as err:\n",
    "    print err\n",
    "finally:\n",
    "    f.close()"
   ]
  },
  {
   "cell_type": "code",
   "execution_count": 67,
   "metadata": {},
   "outputs": [
    {
     "name": "stdout",
     "output_type": "stream",
     "text": [
      "1\n"
     ]
    }
   ],
   "source": [
    "a=\"srnagar hstl\"\n",
    "print a.count(\" \")"
   ]
  },
  {
   "cell_type": "code",
   "execution_count": 70,
   "metadata": {},
   "outputs": [
    {
     "ename": "NameError",
     "evalue": "name 's' is not defined",
     "output_type": "error",
     "traceback": [
      "\u001b[1;31m---------------------------------------------------------------------------\u001b[0m",
      "\u001b[1;31mNameError\u001b[0m                                 Traceback (most recent call last)",
      "\u001b[1;32m<ipython-input-70-3d9a144f4603>\u001b[0m in \u001b[0;36m<module>\u001b[1;34m()\u001b[0m\n\u001b[0;32m      1\u001b[0m \u001b[0ma\u001b[0m\u001b[1;33m=\u001b[0m\u001b[1;34m\"ragavendra\"\u001b[0m\u001b[1;33m\u001b[0m\u001b[0m\n\u001b[1;32m----> 2\u001b[1;33m \u001b[1;32mprint\u001b[0m \u001b[0ma\u001b[0m\u001b[1;33m.\u001b[0m\u001b[0mcount\u001b[0m\u001b[1;33m(\u001b[0m\u001b[0ms\u001b[0m\u001b[1;33m)\u001b[0m\u001b[1;33m\u001b[0m\u001b[0m\n\u001b[0m",
      "\u001b[1;31mNameError\u001b[0m: name 's' is not defined"
     ]
    }
   ],
   "source": [
    "a=\"ragavendra\"\n",
    "print a.count(za)"
   ]
  },
  {
   "cell_type": "code",
   "execution_count": 71,
   "metadata": {},
   "outputs": [
    {
     "name": "stdout",
     "output_type": "stream",
     "text": [
      "10\n"
     ]
    }
   ],
   "source": [
    "a=\"ragavendra\"\n",
    "print len(a)"
   ]
  },
  {
   "cell_type": "code",
   "execution_count": null,
   "metadata": {},
   "outputs": [],
   "source": [
    "a=\"\""
   ]
  },
  {
   "cell_type": "code",
   "execution_count": 9,
   "metadata": {},
   "outputs": [
    {
     "name": "stdout",
     "output_type": "stream",
     "text": [
      "hello, giri\n"
     ]
    }
   ],
   "source": [
    "name=\"giri\"\n",
    "print \"hello, %s\"%name"
   ]
  },
  {
   "cell_type": "code",
   "execution_count": 15,
   "metadata": {},
   "outputs": [
    {
     "name": "stdout",
     "output_type": "stream",
     "text": [
      "welcome to,hyderabad\n"
     ]
    }
   ],
   "source": [
    "name=\"hyderabad\"\n",
    "print \"welcome to,%s\"%name"
   ]
  },
  {
   "cell_type": "code",
   "execution_count": 17,
   "metadata": {},
   "outputs": [
    {
     "name": "stdout",
     "output_type": "stream",
     "text": [
      "8686\n"
     ]
    }
   ],
   "source": [
    "number=8686\n",
    "print \"%d\"%number"
   ]
  },
  {
   "cell_type": "code",
   "execution_count": 20,
   "metadata": {},
   "outputs": [
    {
     "name": "stdout",
     "output_type": "stream",
     "text": [
      "age:26\n"
     ]
    }
   ],
   "source": [
    "age=26\n",
    "print \"age:%d\"%age"
   ]
  },
  {
   "cell_type": "code",
   "execution_count": 26,
   "metadata": {},
   "outputs": [
    {
     "name": "stdout",
     "output_type": "stream",
     "text": [
      "giri is 25 year old\n"
     ]
    }
   ],
   "source": [
    "name=\"giri\"\n",
    "age=25\n",
    "print \"%s is %d year old\"%(name,age)"
   ]
  },
  {
   "cell_type": "code",
   "execution_count": 33,
   "metadata": {},
   "outputs": [
    {
     "name": "stdout",
     "output_type": "stream",
     "text": [
      "my name is:giri\n",
      "my age is:25\n",
      "my height is:5.600000\n",
      "my college is:khyaathi\n",
      "my location is:hyderabad\n"
     ]
    }
   ],
   "source": [
    "name=\"giri\"\n",
    "age=25\n",
    "height=5.6\n",
    "college=\"khyaathi\"\n",
    "location=\"hyderabad\"\n",
    "\n",
    "print \"my name is:%s\"%name\n",
    "print \"my age is:%d\"%age\n",
    "print \"my height is:%f\"%height\n",
    "print \"my college is:%s\"%college\n",
    "print \"my location is:%s\"%location\n",
    "\n"
   ]
  },
  {
   "cell_type": "code",
   "execution_count": 34,
   "metadata": {},
   "outputs": [
    {
     "name": "stdout",
     "output_type": "stream",
     "text": [
      "name is:giri,age is:25,height is:5.600000,college is:khyaathi,location is:hyderabad\n"
     ]
    }
   ],
   "source": [
    "name=\"giri\"\n",
    "age=25\n",
    "height=5.6\n",
    "college=\"khyaathi\"\n",
    "location=\"hyderabad\"\n",
    "\n",
    "print \"name is:%s,age is:%d,height is:%f,college is:%s,location is:%s\"%(name,age,height,college,location)"
   ]
  },
  {
   "cell_type": "code",
   "execution_count": 35,
   "metadata": {},
   "outputs": [
    {
     "name": "stdout",
     "output_type": "stream",
     "text": [
      "name is:giri\n",
      " age is:25\n",
      " height is:5.600000\n",
      " college is:khyaathi\n",
      " location is:hyderabad\n",
      "\n"
     ]
    }
   ],
   "source": [
    "name=\"giri\"\n",
    "age=25\n",
    "height=5.6\n",
    "college=\"khyaathi\"\n",
    "location=\"hyderabad\"\n",
    "\n",
    "print \"name is:%s\\n age is:%d\\n height is:%f\\n college is:%s\\n location is:%s\\n\"%(name,age,height,college,location)"
   ]
  },
  {
   "cell_type": "code",
   "execution_count": 73,
   "metadata": {},
   "outputs": [
    {
     "name": "stdout",
     "output_type": "stream",
     "text": [
      "5\n",
      "23\n"
     ]
    }
   ],
   "source": [
    "x=\"i am going to hyderabad\"\n",
    "print x.count(\" \")+1\n",
    "print len(x)"
   ]
  },
  {
   "cell_type": "code",
   "execution_count": 77,
   "metadata": {},
   "outputs": [],
   "source": [
    "names=[\"ramu\",\"raghu\",\"thirumal\",\"babai\",\"giri\"]\n",
    "import random\n",
    "f=open(\"data.csv\",\"w\")\n",
    "f.write(\"id,name\\n\")\n",
    "for i in range(3):\n",
    "    f.write(\"%s,%s\\n\"%(i,random.choice(names)))\n",
    "f.close()"
   ]
  },
  {
   "cell_type": "code",
   "execution_count": 91,
   "metadata": {},
   "outputs": [],
   "source": [
    "institues=[\"khyaathi\",\"lokesh it\",\"sql school\",\"python\",\"django\"]\n",
    "import random\n",
    "f=open(\"data.csv\",\"w\")\n",
    "f.write(\"id,institues\\n\")\n",
    "for i in range(100):\n",
    "    f.write(\"%s,%s\\n\"%(i,random.choice (institues)))\n",
    "f.close()"
   ]
  },
  {
   "cell_type": "code",
   "execution_count": 92,
   "metadata": {},
   "outputs": [
    {
     "name": "stdout",
     "output_type": "stream",
     "text": [
      "File not open for reading\n"
     ]
    }
   ],
   "source": [
    "try:\n",
    "    f=open(\"data.csv\",\"w\")\n",
    "    institues=f.readlines()\n",
    "    print institues\n",
    "except IOError as err:\n",
    "    print err\n",
    "finally:\n",
    "    f.close()\n"
   ]
  }
 ],
 "metadata": {
  "kernelspec": {
   "display_name": "Python 2",
   "language": "python",
   "name": "python2"
  },
  "language_info": {
   "codemirror_mode": {
    "name": "ipython",
    "version": 2
   },
   "file_extension": ".py",
   "mimetype": "text/x-python",
   "name": "python",
   "nbconvert_exporter": "python",
   "pygments_lexer": "ipython2",
   "version": "2.7.15"
  }
 },
 "nbformat": 4,
 "nbformat_minor": 2
}
