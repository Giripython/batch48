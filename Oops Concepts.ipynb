{
 "cells": [
  {
   "cell_type": "code",
   "execution_count": 4,
   "metadata": {},
   "outputs": [
    {
     "name": "stdout",
     "output_type": "stream",
     "text": [
      "begin\n"
     ]
    }
   ],
   "source": [
    "# OBJECTS\n",
    "print (\"begin\")\n",
    "class x:\n",
    "    def m1(self):\n",
    "        print (\"in m1 of x\")\n",
    "        def m2(self):\n",
    "            print (\"in m2 of x\")\n",
    "            x1=x()\n",
    "            print(x1)\n",
    "            x1.m1()\n",
    "            x1.m2()\n",
    "            x1.m1()\n",
    "            x2=x()\n",
    "            print()\n",
    "            x2.m1()\n",
    "            x2.m2()\n",
    "            print(\"end\")\n",
    "        "
   ]
  },
  {
   "cell_type": "code",
   "execution_count": 26,
   "metadata": {},
   "outputs": [],
   "source": [
    "class x:\n",
    "    a=100\n",
    "    def m1(self):\n",
    "        print(x,a)\n",
    "        x1=x()\n",
    "        x1.m1()\n",
    "        print(x,a)\n",
    "        x2=x()\n",
    "        x2.m1()\n",
    "        "
   ]
  },
  {
   "cell_type": "code",
   "execution_count": 27,
   "metadata": {},
   "outputs": [
    {
     "name": "stdout",
     "output_type": "stream",
     "text": [
      "my name is giri\n"
     ]
    }
   ],
   "source": [
    "print(\"my name is giri\")\n",
    "class x:\n",
    "     def m1(self):\n",
    "        print (\"in m1 of x\")\n",
    "        def m2(self):\n",
    "            print (\"in m2 of x\")\n",
    "            x1=x()\n",
    "            print(x1)\n",
    "            x1.m1()\n",
    "            x1.m2()\n",
    "            x1.m1()\n",
    "            x2=x()\n",
    "            print()\n",
    "            x2.m1()\n",
    "            x2.m2()\n",
    "            print(\"end\")\n",
    "        "
   ]
  },
  {
   "cell_type": "code",
   "execution_count": 32,
   "metadata": {},
   "outputs": [],
   "source": [
    "class x:\n",
    "    a=100\n",
    "    def m1(self):\n",
    "        print(x.a)\n",
    "        x1=x()\n",
    "        x1.m1()\n",
    "        print(x.a)\n",
    "        x2=x()\n",
    "        x2.m2()\n",
    "        \n",
    "        "
   ]
  },
  {
   "cell_type": "code",
   "execution_count": 38,
   "metadata": {},
   "outputs": [],
   "source": [
    "class x:\n",
    "    a=1000\n",
    "    b=2000\n",
    "    def display(self):\n",
    "        print(x.a)\n",
    "        print(x.b)\n",
    "        def modify(self):\n",
    "            x.a=3000\n",
    "            x.b=4000\n",
    "        x1=x()\n",
    "        x1.display()\n",
    "        x1.modify()\n",
    "        x1.display()\n",
    "        x2=x()\n",
    "        x2.display()\n",
    "        "
   ]
  }
 ],
 "metadata": {
  "kernelspec": {
   "display_name": "Python 2",
   "language": "python",
   "name": "python2"
  },
  "language_info": {
   "codemirror_mode": {
    "name": "ipython",
    "version": 2
   },
   "file_extension": ".py",
   "mimetype": "text/x-python",
   "name": "python",
   "nbconvert_exporter": "python",
   "pygments_lexer": "ipython2",
   "version": "2.7.15"
  }
 },
 "nbformat": 4,
 "nbformat_minor": 2
}
