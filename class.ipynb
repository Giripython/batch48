{
 "cells": [
  {
   "cell_type": "code",
   "execution_count": 3,
   "metadata": {},
   "outputs": [
    {
     "name": "stdout",
     "output_type": "stream",
     "text": [
      "this is class\n"
     ]
    }
   ],
   "source": [
    "def fun():\n",
    "    print \"this is fun\"\n",
    "class emp:\n",
    "    print \"this is class\"\n"
   ]
  },
  {
   "cell_type": "code",
   "execution_count": 3,
   "metadata": {},
   "outputs": [
    {
     "name": "stdout",
     "output_type": "stream",
     "text": [
      "my name is raju\n"
     ]
    }
   ],
   "source": [
    "def fun():\n",
    "    print \"my name is ramu\"\n",
    "class emp:\n",
    "        print \"my name is raju\""
   ]
  },
  {
   "cell_type": "code",
   "execution_count": null,
   "metadata": {},
   "outputs": [],
   "source": []
  },
  {
   "cell_type": "code",
   "execution_count": null,
   "metadata": {},
   "outputs": [],
   "source": []
  },
  {
   "cell_type": "code",
   "execution_count": 7,
   "metadata": {},
   "outputs": [
    {
     "name": "stdout",
     "output_type": "stream",
     "text": [
      "welcome to khyaathi institute\n"
     ]
    }
   ],
   "source": [
    "def fun():\n",
    "    a=10\n",
    "    b=20\n",
    "    print \"good morning all of you\"\n",
    "class emp:\n",
    "        a1=30\n",
    "        b1=40\n",
    "        print \"welcome to khyaathi institute\"\n",
    "        "
   ]
  },
  {
   "cell_type": "code",
   "execution_count": 9,
   "metadata": {},
   "outputs": [
    {
     "name": "stdout",
     "output_type": "stream",
     "text": [
      "hi,good morning students\n",
      "happy indepedence day\n"
     ]
    }
   ],
   "source": [
    "def fun():\n",
    "    a=10\n",
    "    b=20\n",
    "class emp:\n",
    "    c=30\n",
    "    d=40\n",
    "    print \"hi,good morning students\"\n",
    "    print \"happy indepedence day\""
   ]
  },
  {
   "cell_type": "code",
   "execution_count": 11,
   "metadata": {},
   "outputs": [
    {
     "name": "stdout",
     "output_type": "stream",
     "text": [
      "kcr\n",
      "60\n"
     ]
    }
   ],
   "source": [
    "class emp:\n",
    "    name=\"kcr\"\n",
    "    age=60\n",
    "    print name\n",
    "    print age"
   ]
  },
  {
   "cell_type": "code",
   "execution_count": 21,
   "metadata": {},
   "outputs": [
    {
     "name": "stdout",
     "output_type": "stream",
     "text": [
      "kalyan babu\n",
      "50\n"
     ]
    }
   ],
   "source": [
    "class emp:\n",
    "    name=\"kalyan babu\"\n",
    "    age=50\n",
    "    print emp.name\n",
    "    print emp.age\n"
   ]
  },
  {
   "cell_type": "code",
   "execution_count": 24,
   "metadata": {},
   "outputs": [
    {
     "name": "stdout",
     "output_type": "stream",
     "text": [
      "name= ragavendra\n",
      "emp.nmae+ ramcharan\n"
     ]
    }
   ],
   "source": [
    "name=\"ragavendra\"\n",
    "class emp:\n",
    "    name=\"ramcharan\"\n",
    "print \"name=\",name\n",
    "print \"emp.nmae+\",emp.name"
   ]
  },
  {
   "cell_type": "code",
   "execution_count": null,
   "metadata": {},
   "outputs": [],
   "source": []
  }
 ],
 "metadata": {
  "kernelspec": {
   "display_name": "Python 2",
   "language": "python",
   "name": "python2"
  },
  "language_info": {
   "codemirror_mode": {
    "name": "ipython",
    "version": 2
   },
   "file_extension": ".py",
   "mimetype": "text/x-python",
   "name": "python",
   "nbconvert_exporter": "python",
   "pygments_lexer": "ipython2",
   "version": "2.7.15"
  }
 },
 "nbformat": 4,
 "nbformat_minor": 2
}
