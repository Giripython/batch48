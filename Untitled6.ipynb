{
 "cells": [
  {
   "cell_type": "code",
   "execution_count": null,
   "metadata": {},
   "outputs": [],
   "source": [
    "print \"eligibule option:\\n\\t1.theater:\\n\\t2.voting system\\n\\t3.marriage in india:\\n\\t4.for govt jobs:\\n\\t5.drving licenes:\\n\\t\"\n",
    "theater=raw_input(\"enter your theater:\")\n",
    "gender=raw_input(\"enter select the gender opetion:\")\n",
    "print()"
   ]
  },
  {
   "cell_type": "code",
   "execution_count": null,
   "metadata": {},
   "outputs": [],
   "source": [
    "print \"eligibule option:\\n\\t1.theater\\n\\t2.voting system\\n\\t3.marriage in india\\n\\t4.govt jobs\\n\\t5.drving licenes\\n\\t:\"\n",
    "voting=raw_input(\"enter your voting:\")\n",
    "age=raw_input(\"enter your age:\")\n",
    "if intage>\n"
   ]
  }
 ],
 "metadata": {
  "kernelspec": {
   "display_name": "Python 2",
   "language": "python",
   "name": "python2"
  },
  "language_info": {
   "codemirror_mode": {
    "name": "ipython",
    "version": 2
   },
   "file_extension": ".py",
   "mimetype": "text/x-python",
   "name": "python",
   "nbconvert_exporter": "python",
   "pygments_lexer": "ipython2",
   "version": "2.7.15"
  }
 },
 "nbformat": 4,
 "nbformat_minor": 2
}
