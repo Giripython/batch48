{
 "cells": [
  {
   "cell_type": "code",
   "execution_count": 36,
   "metadata": {},
   "outputs": [
    {
     "name": "stdout",
     "output_type": "stream",
     "text": [
      "enter a number:50\n",
      "given number is even number\n"
     ]
    }
   ],
   "source": [
    "\"\"\"  8. Take number from the user decide whether it is even or odd. \"\"\"\n",
    "\n",
    "\n",
    "\n",
    "num=input(\"enter a number:\")\n",
    "num=int(num)\n",
    "if num>0:\n",
    "    print \"given number is even number\"\n",
    "else:\n",
    "    print \"given number is odd number\""
   ]
  },
  {
   "cell_type": "code",
   "execution_count": 47,
   "metadata": {},
   "outputs": [
    {
     "name": "stdout",
     "output_type": "stream",
     "text": [
      "enter a number:55\n",
      "given number is odd number\n"
     ]
    }
   ],
   "source": [
    "\"\"\"  8. Take number from the user decide whether it is even or odd. \"\"\"\n",
    "\n",
    "\n",
    "\n",
    "a=input(\"enter a number:\")\n",
    "a=int(a)\n",
    "if a%2==0:\n",
    "    print \"given number is even number\"\n",
    "else:\n",
    "    print \"given number is odd number\""
   ]
  },
  {
   "cell_type": "code",
   "execution_count": 42,
   "metadata": {},
   "outputs": [
    {
     "name": "stdout",
     "output_type": "stream",
     "text": [
      "enter a number:-20\n",
      "enter a negative number\n"
     ]
    }
   ],
   "source": [
    "\"\"\" 9.take number from the user decide whether it is positive number or negative number \"\"\"\n",
    "\n",
    "\n",
    "\n",
    "num=input(\"enter a number:\")\n",
    "num=int(num)\n",
    "if num>0:\n",
    "    print \"enter a positive number\"\n",
    "else:\n",
    "    print \"enter a negative number\"\n"
   ]
  },
  {
   "cell_type": "code",
   "execution_count": 43,
   "metadata": {},
   "outputs": [
    {
     "name": "stdout",
     "output_type": "stream",
     "text": [
      "enter a number:50\n",
      "enter a positive number\n"
     ]
    }
   ],
   "source": [
    "\"\"\" 9.take number from the user decide whether it is positive number or negative number \"\"\"\n",
    "\n",
    "\n",
    "\n",
    "num=input(\"enter a number:\")\n",
    "num=int(num)\n",
    "if num>0:\n",
    "    print \"enter a positive number\"\n",
    "else:\n",
    "    print \"enter a negative number\"\n"
   ]
  },
  {
   "cell_type": "code",
   "execution_count": 3,
   "metadata": {},
   "outputs": [
    {
     "name": "stdout",
     "output_type": "stream",
     "text": [
      "enter any string:ramu\n",
      "the lenth of the given string is: 4\n"
     ]
    }
   ],
   "source": [
    "\"\"\" 10.take a string from the user print the length. if the user not given anything then show an error message \"\"\"\n",
    "\n",
    "\n",
    "name=raw_input(\"enter any string:\")\n",
    "if len(name)==0:\n",
    "    print \"error message: string is not given\"\n",
    "else:\n",
    "    print \"the lenth of the given string is:\",len(name)"
   ]
  },
  {
   "cell_type": "code",
   "execution_count": 4,
   "metadata": {},
   "outputs": [
    {
     "name": "stdout",
     "output_type": "stream",
     "text": [
      "enter any string: giri\n",
      "the lenth of given string is: 4\n"
     ]
    }
   ],
   "source": [
    "\n",
    "\"\"\" 10.take a string from the user print the length. if the user not given anything then show an error message###9.\tta \"\"\"\n",
    "\n",
    "\n",
    "name=raw_input(\"enter any string: \")\n",
    "if len(name)==0:\n",
    "    print \"Error message: string not given\"\n",
    "else:\n",
    "    print \"the lenth of given string is:\",len(name)\n"
   ]
  },
  {
   "cell_type": "code",
   "execution_count": 10,
   "metadata": {},
   "outputs": [
    {
     "name": "stdout",
     "output_type": "stream",
     "text": [
      "mathametical operation:\n",
      "\t1.add\n",
      "\t2.sub\n",
      "\t3.mul\n",
      "\t4.div\n",
      "\t5.quit\n",
      "enter first number:5\n",
      "enter second number:3\n",
      "select the any one above mathametical operations:3\n",
      " multiplication two numbers is:  15\n"
     ]
    }
   ],
   "source": [
    "\"\"\" 11.code to perform mathematical operations. take two numbers from the user: 1. add, 2. sub, 3. mul, 4.div, 5.quit  \"\"\"\n",
    "\n",
    "print \"mathametical operation:\\n\\t1.add\\n\\t2.sub\\n\\t3.mul\\n\\t4.div\\n\\t5.quit\"\n",
    "a=int(raw_input(\"enter first number:\"))\n",
    "b=int(raw_input(\"enter second number:\"))\n",
    "option=int(raw_input(\"select the any one above mathametical operations:\"))\n",
    "if  option== 1:\n",
    "    c=a+b\n",
    "    print \"addition two numbers is: \",c\n",
    "if option== 2:\n",
    "    c=a-b\n",
    "    print \" subtration two numbers is: \",c\n",
    "if option == 3:\n",
    "    c=a*b\n",
    "    print \" multiplication two numbers is: \",c\n",
    "if option == 4:\n",
    "    c=num1/num2\n",
    "    print \" division two numbers is: \",c\n",
    "if option != 1 and option != 2 and option != 3 and option != 4:\n",
    "    print \"Please Enter above selected options\"\n",
    "if option == 5:\n",
    "    quit()"
   ]
  },
  {
   "cell_type": "code",
   "execution_count": 11,
   "metadata": {},
   "outputs": [
    {
     "name": "stdout",
     "output_type": "stream",
     "text": [
      "mathametical operation:\n",
      "\t1.add\n",
      "\t2.sub\n",
      "\t3.mul\n",
      "\t4.div\n",
      "\t5.quit\n",
      "enter first number:10\n",
      "enter second number:90\n",
      "select the any one above mathametical operations:1\n",
      "addition two numbers is:  100\n"
     ]
    }
   ],
   "source": [
    "\"\"\" 11.code to perform mathematical operations. take two numbers from the user: 1. add, 2. sub, 3. mul, 4.div, 5.quit  \"\"\"\n",
    "\n",
    "print \"mathametical operation:\\n\\t1.add\\n\\t2.sub\\n\\t3.mul\\n\\t4.div\\n\\t5.quit\"\n",
    "a=int(raw_input(\"enter first number:\"))\n",
    "b=int(raw_input(\"enter second number:\"))\n",
    "option=int(raw_input(\"select the any one above mathametical operations:\"))\n",
    "if  option== 1:\n",
    "    c=a+b\n",
    "    print \"addition two numbers is: \",c\n",
    "if option== 2:\n",
    "    c=a-b\n",
    "    print \" subtration two numbers is: \",c\n",
    "if option == 3:\n",
    "    c=a*b\n",
    "    print \" multiplication two numbers is: \",c\n",
    "if option == 4:\n",
    "    c=num1/num2\n",
    "    print \" division two numbers is: \",c\n",
    "if option != 1 and option != 2 and option != 3 and option != 4:\n",
    "    print \"Please Enter above selected options\"\n",
    "if option == 5:\n",
    "    quit()"
   ]
  },
  {
   "cell_type": "code",
   "execution_count": 12,
   "metadata": {},
   "outputs": [
    {
     "name": "stdout",
     "output_type": "stream",
     "text": [
      "show the menu:\n",
      "\t1.kids\n",
      "\t2.men's\n",
      "\t3.women's\n",
      "select the any one option menu:2\n",
      "thank q\n"
     ]
    }
   ],
   "source": [
    "\"\"\"12.\t118. show the menu:\n",
    "   1. kids\n",
    "   2. Men's\n",
    "   3. Women's\n",
    "    Show the corresponding message based on the selection. Mention error message if he enter >3. \"\"\"\n",
    "\n",
    "print \"show the menu:\\n\\t1.kids\\n\\t2.men's\\n\\t3.women's\"\n",
    "option=raw_input(\"select the any one option menu:\")\n",
    "if option==1:\n",
    "    print \"go to first floor kid's items\"\n",
    "if option==2:\n",
    "    print \"go to second floor women's items\"\n",
    "if option==3:\n",
    "    print \"go to third floor men's items\"\n",
    "print \"thank q\""
   ]
  },
  {
   "cell_type": "code",
   "execution_count": 2,
   "metadata": {},
   "outputs": [
    {
     "name": "stdout",
     "output_type": "stream",
     "text": [
      "show the menu:\n",
      "\t1.kids\n",
      "\t2.men's\n",
      "\t3.women's\n",
      " select the only one correct option\n",
      "select the any one option menu:2\n",
      "thank q\n"
     ]
    }
   ],
   "source": [
    "\"\"\"12.\t118. show the menu:\n",
    "   1. kids\n",
    "   2. Men's\n",
    "   3. Women's\n",
    "    Show the corresponding message based on the selection. Mention error message if he enter >3. \"\"\"\n",
    "\n",
    "print \"show the menu:\\n\\t1.kids\\n\\t2.men's\\n\\t3.women's\"\n",
    "print \" select the only one correct option\"\n",
    "option=raw_input(\"select the any one option menu:\")\n",
    "if option==1:\n",
    "    print \"go to first floor kid's items\"\n",
    "if option==2:\n",
    "    print \"go to second floor women's items\"\n",
    "if option==3:\n",
    "    print \"go to third floor men's items\"\n",
    "print \"thank q\""
   ]
  },
  {
   "cell_type": "code",
   "execution_count": 6,
   "metadata": {},
   "outputs": [
    {
     "name": "stdout",
     "output_type": "stream",
     "text": [
      "enter your name:giri\n",
      "substring available\n"
     ]
    }
   ],
   "source": [
    "\"\"\" 13. write a program to chek given substring is there in actual string or not? (search should be case insensitive) \"\"\"\n",
    "\n",
    "string=raw_input(\"enter your name:\")\n",
    "if string==string:\n",
    "    print \"substring available\"\n",
    "else:\n",
    "    print \"substring is not avilable\""
   ]
  },
  {
   "cell_type": "code",
   "execution_count": 8,
   "metadata": {},
   "outputs": [
    {
     "name": "stdout",
     "output_type": "stream",
     "text": [
      "enter your name:mahesh babu\n",
      "substring is not avilable\n"
     ]
    }
   ],
   "source": [
    "\"\"\" 13. write a program to chek given substring is there in actual string or not? (search should be case insensitive) \"\"\"\n",
    "\n",
    "string=raw_input(\"enter your name:\")\n",
    "string1=\"thirumal\"\n",
    "if string==string1:\n",
    "    print \"substring available\"\n",
    "else:\n",
    "    print \"substring is not avilable\""
   ]
  },
  {
   "cell_type": "code",
   "execution_count": 5,
   "metadata": {},
   "outputs": [
    {
     "name": "stdout",
     "output_type": "stream",
     "text": [
      "enter a first number:56\n",
      "enter a second number:900\n",
      "enter a third number:23\n",
      "second number is big number\n"
     ]
    }
   ],
   "source": [
    "\"\"\" 14.Take three numbers from the user and decide which is big \"\"\"\n",
    "\n",
    "x=int(raw_input(\"enter a first number:\"))\n",
    "y=int(raw_input(\"enter a second number:\"))\n",
    "z=int(raw_input(\"enter a third number:\"))\n",
    "if  x>y:\n",
    "    print \"first number is big number\"\n",
    "if y>z:\n",
    "    print \"second number is big number\"\n",
    "if z>x:\n",
    "    print \"third number is big number\""
   ]
  },
  {
   "cell_type": "code",
   "execution_count": 2,
   "metadata": {},
   "outputs": [
    {
     "name": "stdout",
     "output_type": "stream",
     "text": [
      "enter a first number:20\n",
      "enter a second number:35\n",
      "enter a third number:12\n",
      "second number is big number\n"
     ]
    }
   ],
   "source": [
    "\"\"\" 14.Take three numbers from the user and decide which is big \"\"\"\n",
    "\n",
    "x=int(raw_input(\"enter a first number:\"))\n",
    "y=int(raw_input(\"enter a second number:\"))\n",
    "z=int(raw_input(\"enter a third number:\"))\n",
    "if x>y and x>y:\n",
    "    print \"first number is big number\"\n",
    "if y>z and y>z:\n",
    "    print \"second number is big number\"\n",
    "if z>x and z>x:\n",
    "    print \"third number is big number\""
   ]
  },
  {
   "cell_type": "code",
   "execution_count": 3,
   "metadata": {},
   "outputs": [
    {
     "name": "stdout",
     "output_type": "stream",
     "text": [
      "enter a first number:1500\n",
      "enter a second number:100\n",
      "enter a third number:256\n",
      "first number is big number\n"
     ]
    }
   ],
   "source": [
    "\"\"\" 14.Take three numbers from the user and decide which is big \"\"\"\n",
    "\n",
    "number1=int(raw_input(\"enter a first number:\"))\n",
    "number2=int(raw_input(\"enter a second number:\"))\n",
    "number3=int(raw_input(\"enter a third number:\"))\n",
    "if number1>number2 and number1>number2:\n",
    "    print \"first number is big number\"\n",
    "if number2>number3 and number2>number3:\n",
    "    print \"second number is big number\"\n",
    "if number3>number1 and number3>number1:\n",
    "    print \"third number is big number\""
   ]
  },
  {
   "cell_type": "code",
   "execution_count": 13,
   "metadata": {},
   "outputs": [
    {
     "name": "stdout",
     "output_type": "stream",
     "text": [
      "Eligibility: \n",
      "\t1.Theatre: 5\n",
      "\t2.Voting System: 18\n",
      "\t3.Marriage in india: 23\n",
      "\t4.Govt Job: 18\n",
      "\t5.Driving license: 18\n",
      "Enter age: 23\n",
      "You can apply/do\n",
      "\tVoting System in India\n",
      "\tGovt Jobs in India\n",
      "\tDriving License in India\n",
      "\tMarriage in India\n"
     ]
    }
   ],
   "source": [
    "\"\"\"17.conditions 1. Theatre: 5 for men 7 for women\n",
    "               2. Voting system: 18 for men and women\n",
    "               3. Marriage in india: 23 for men and for women >21\n",
    "            4. For govt jobs: (min:18, max:32)  for men and (min:18, max:34) for women\n",
    "            5. For driving licence: (min:18, max:60) for men and women\n",
    "Eligibility:\n",
    "1. theatre \n",
    "2.  Voting system\n",
    "3.  Marriage in india\n",
    "4.  For govt obs\n",
    "5. For driving licence:\n",
    "Enter an option:\n",
    "Gender:\n",
    "1. men\n",
    "2. women\n",
    "Enter an option:\n",
    "Enter an age of person:\"\"\"\n",
    "\n",
    "\n",
    "print \"Eligibility: \\n\\t1.Theatre: 5\\n\\t2.Voting System: 18\\n\\t3.Marriage in india: 23\\n\\t4.Govt Job: 18\\n\\t5.Driving license: 18\"\n",
    "option=int(raw_input(\"Enter age: \"))\n",
    "if option <18:\n",
    "    print \"You can apply/do\\n\\tTheatre\"\n",
    "if option == 18:\n",
    "    print \"You can apply/do\\n\\tVoting System in India\\n\\tGovt Jobs in India\\n\\tDriving License in India\"\n",
    "if option >= 23:\n",
    "    print \"You can apply/do\\n\\tVoting System in India\\n\\tGovt Jobs in India\\n\\tDriving License in India\\n\\tMarriage in India\""
   ]
  },
  {
   "cell_type": "code",
   "execution_count": 12,
   "metadata": {},
   "outputs": [
    {
     "name": "stdout",
     "output_type": "stream",
     "text": [
      "Eligibility: \n",
      "\t1.Theatre: 5\n",
      "\t2.Voting System: 18\n",
      "\t3.Marriage in india: 23\n",
      "\t4.Govt Job: 18\n",
      "\t5.Driving license: 18\n",
      "Enter age: 18\n",
      "You can apply/do\n",
      "\tVoting System in India\n",
      "\tGovt Jobs in India\n",
      "\tDriving License in India\n"
     ]
    }
   ],
   "source": [
    "\"\"\"17.conditions 1. Theatre: 5 for men 7 for women\n",
    "               2. Voting system: 18 for men and women\n",
    "               3. Marriage in india: 23 for men and for women >21\n",
    "            4. For govt jobs: (min:18, max:32)  for men and (min:18, max:34) for women\n",
    "            5. For driving licence: (min:18, max:60) for men and women\n",
    "Eligibility:\n",
    "1. theatre \n",
    "2.  Voting system\n",
    "3.  Marriage in india\n",
    "4.  For govt obs\n",
    "5. For driving licence:\n",
    "Enter an option:\n",
    "Gender:\n",
    "1. men\n",
    "2. women\n",
    "Enter an option:\n",
    "Enter an age of person:\"\"\"\n",
    "\n",
    "\n",
    "print \"Eligibility: \\n\\t1.Theatre: 5\\n\\t2.Voting System: 18\\n\\t3.Marriage in india: 23\\n\\t4.Govt Job: 18\\n\\t5.Driving license: 18\"\n",
    "option=int(raw_input(\"Enter age: \"))\n",
    "if option <18:\n",
    "    print \"You can apply/do\\n\\tTheatre\"\n",
    "if option == 18:\n",
    "    print \"You can apply/do\\n\\tVoting System in India\\n\\tGovt Jobs in India\\n\\tDriving License in India\"\n",
    "if option >= 23:\n",
    "    print \"You can apply/do\\n\\tVoting System in India\\n\\tGovt Jobs in India\\n\\tDriving License in India\\n\\tMarriage in India\""
   ]
  },
  {
   "cell_type": "code",
   "execution_count": 32,
   "metadata": {},
   "outputs": [
    {
     "name": "stdout",
     "output_type": "stream",
     "text": [
      "operating system\n",
      "\t1.windows\n",
      "\t2.android\n",
      "\t3.mac\n",
      "enter an option:2\n",
      "select the any one floor or 1 or 2 or 3\n",
      "thank Q\n"
     ]
    }
   ],
   "source": [
    " \n",
    "\"\"\"18.operating systems:\n",
    "1.windows\n",
    "2.android\n",
    "3.mac\n",
    "Enter an option:\n",
    "\n",
    "If the user enters 1 then show \"Goto first floor and buy windows laptop or mobile\"\n",
    "If the user enters 2 then show \"Goto second floor and buy adroid mobiles\"\n",
    "If the user enters 3 then show \"Goto third floor and buy mac laptop or iphones\"\n",
    "If the user enters other than 1 or 2 or 3 then show \"There is only three floors, please select 1 or 2 or 3\" \"\"\"\n",
    "\n",
    "\n",
    "\n",
    "print \"operating system\\n\\t1.windows\\n\\t2.android\\n\\t3.mac\"\n",
    "option=input(\"enter an option:\")\n",
    "if option==\"1\":\n",
    "    print \"go to first floor and buy windows\"\n",
    "elif option==\"2\":\n",
    "    print \"go to second floor and buy mobiles\"\n",
    "elif option==\"3\":\n",
    "    print \"go to third floor and buy mac\"\n",
    "else:\n",
    "    print \"select the any one floor or 1 or 2 or 3\"\n",
    "    print \"thank Q\""
   ]
  },
  {
   "cell_type": "code",
   "execution_count": 14,
   "metadata": {},
   "outputs": [
    {
     "name": "stdout",
     "output_type": "stream",
     "text": [
      "operating system\n",
      "\t1.windows\n",
      "\t2.android\n",
      "\t3.mac\n",
      "enter an option:1\n",
      "select the any one floor or 1 or 2 or 3\n",
      "thank Q\n"
     ]
    }
   ],
   "source": [
    " \n",
    "\"\"\"18.operating systems:\n",
    "1.windows\n",
    "2.android\n",
    "3.mac\n",
    "Enter an option:\n",
    "\n",
    "If the user enters 1 then show \"Goto first floor and buy windows laptop or mobile\"\n",
    "If the user enters 2 then show \"Goto second floor and buy adroid mobiles\"\n",
    "If the user enters 3 then show \"Goto third floor and buy mac laptop or iphones\"\n",
    "If the user enters other than 1 or 2 or 3 then show \"There is only three floors, please select 1 or 2 or 3\" \"\"\"\n",
    "\n",
    "\n",
    "\n",
    "print \"operating system\\n\\t1.windows\\n\\t2.android\\n\\t3.mac\"\n",
    "option=input(\"enter an option:\")\n",
    "if option==\"1\":\n",
    "    print \"go to first floor and buy windows\"\n",
    "elif option==\"2\":\n",
    "    print \"go to second floor and buy mobiles\"\n",
    "elif option==\"3\":\n",
    "    print \"go to third floor and buy mac\"\n",
    "else:\n",
    "    print \"select the any one floor or 1 or 2 or 3\"\n",
    "    print \"thank Q\""
   ]
  }
 ],
 "metadata": {
  "kernelspec": {
   "display_name": "Python 2",
   "language": "python",
   "name": "python2"
  },
  "language_info": {
   "codemirror_mode": {
    "name": "ipython",
    "version": 2
   },
   "file_extension": ".py",
   "mimetype": "text/x-python",
   "name": "python",
   "nbconvert_exporter": "python",
   "pygments_lexer": "ipython2",
   "version": "2.7.15"
  }
 },
 "nbformat": 4,
 "nbformat_minor": 2
}
