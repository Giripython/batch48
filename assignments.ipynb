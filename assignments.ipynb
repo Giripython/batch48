{
 "cells": [
  {
   "cell_type": "code",
   "execution_count": 3,
   "metadata": {},
   "outputs": [
    {
     "name": "stdout",
     "output_type": "stream",
     "text": [
      "enter name:giri\n",
      "Enter Age:23\n",
      "Enter height:5.6\n"
     ]
    }
   ],
   "source": [
    "name=raw_input(\"enter name:\")\n",
    "age=raw_input(\"Enter Age:\")\n",
    "height=raw_input(\"Enter height:\")\n",
    "# Name:Anil kumar, Age:23, Height:5.67342"
   ]
  },
  {
   "cell_type": "code",
   "execution_count": 6,
   "metadata": {},
   "outputs": [
    {
     "ename": "IndentationError",
     "evalue": "unexpected indent (<ipython-input-6-f4402bb32799>, line 2)",
     "output_type": "error",
     "traceback": [
      "\u001b[1;36m  File \u001b[1;32m\"<ipython-input-6-f4402bb32799>\"\u001b[1;36m, line \u001b[1;32m2\u001b[0m\n\u001b[1;33m    Number of seats for bus, adjust factor). Based on four inputs\u001b[0m\n\u001b[1;37m    ^\u001b[0m\n\u001b[1;31mIndentationError\u001b[0m\u001b[1;31m:\u001b[0m unexpected indent\n"
     ]
    }
   ],
   "source": [
    "### 1.\tTake the input from the user for(Total number of people, total number of buses, \n",
    "                                     Number of seats for bus, adjust factor). Based on four inputs\n",
    "Decide whether there is sufficient buses or not and give solution for how many extra buses required. ###\n",
    "\n",
    "a=raw_input(\"enter number of busses:\")\n",
    "b=raw_input(\"enter number of seats:\")\n",
    "c=raw_input(\"enter number of people:\") \n",
    "print int(a), int(b),int(c)"
   ]
  }
 ],
 "metadata": {
  "kernelspec": {
   "display_name": "Python 2",
   "language": "python",
   "name": "python2"
  },
  "language_info": {
   "codemirror_mode": {
    "name": "ipython",
    "version": 2
   },
   "file_extension": ".py",
   "mimetype": "text/x-python",
   "name": "python",
   "nbconvert_exporter": "python",
   "pygments_lexer": "ipython2",
   "version": "2.7.15"
  }
 },
 "nbformat": 4,
 "nbformat_minor": 2
}
