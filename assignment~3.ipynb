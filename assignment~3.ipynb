{
 "cells": [
  {
   "cell_type": "code",
   "execution_count": 15,
   "metadata": {},
   "outputs": [
    {
     "name": "stdout",
     "output_type": "stream",
     "text": [
      "enter a number:15\n",
      "given number is odd number:\n"
     ]
    }
   ],
   "source": [
    "# 7.\t Take number from the user decide whether it is even or odd.\n",
    "number=raw_input(\"enter a number:\")\n",
    "number=int(number)\n",
    "if number % 2==0:\n",
    "    print(\"given number is even number:\")\n",
    "else:\n",
    "    print(\"given number is odd number:\")\n"
   ]
  },
  {
   "cell_type": "code",
   "execution_count": 21,
   "metadata": {},
   "outputs": [
    {
     "name": "stdout",
     "output_type": "stream",
     "text": [
      "enter a number:20\n",
      "given number is positive number:\n"
     ]
    }
   ],
   "source": [
    "# 8.\ttake number from the user decide whether it is positive number or negative number\n",
    "number=raw_input(\"enter a number:\")\n",
    "number>0\n",
    "if number>0:\n",
    "    print(\"given number is positive number:\")\n",
    "else:\n",
    "    print(\"given number is negative number:\")"
   ]
  },
  {
   "cell_type": "code",
   "execution_count": 24,
   "metadata": {},
   "outputs": [
    {
     "name": "stdout",
     "output_type": "stream",
     "text": [
      "enter the any string number:50\n",
      "given lenth of the string:\n"
     ]
    }
   ],
   "source": [
    "# 9.\t116. take a string from the user print the length. if the user not given anything then show an error message\n",
    "name=raw_input(\"enter the any string number:\")\n",
    "if len(name)==0:\n",
    "    print(\"string not given error msg:\")\n",
    "else:\n",
    "    print(\"given lenth of the string:\")\n"
   ]
  },
  {
   "cell_type": "code",
   "execution_count": 33,
   "metadata": {},
   "outputs": [
    {
     "ename": "SyntaxError",
     "evalue": "invalid syntax (<ipython-input-33-36df3b9092f9>, line 1)",
     "output_type": "error",
     "traceback": [
      "\u001b[1;36m  File \u001b[1;32m\"<ipython-input-33-36df3b9092f9>\"\u001b[1;36m, line \u001b[1;32m1\u001b[0m\n\u001b[1;33m    10.\t117. code to perform mathematical operations. take two numbers from the user: 1. add, 2. sub, 3. mul, 4.div, 5.quit\u001b[0m\n\u001b[1;37m       \t   ^\u001b[0m\n\u001b[1;31mSyntaxError\u001b[0m\u001b[1;31m:\u001b[0m invalid syntax\n"
     ]
    }
   ],
   "source": [
    "10.\t117. code to perform mathematical operations. take two numbers from the user: 1. add, 2. sub, 3. mul, 4.div, 5.quit\n",
    "    first_number=raw_input(\"enter first number:\")\n",
    "    second_number=raw_input(\"enter second number:\")\n",
    "    if user==1:\n",
    "        a=first_number+second_number\n",
    "        print(\"the addition of two numbers:\")\n",
    "    if user==2:\n",
    "        a=first_number-second_number\n",
    "        print(\"the substration of two number:\")\n",
    "    if user==3:   \n",
    "        a=first_number*second_number\n",
    "        print(\"the multification of two number:\")\n",
    "    if user==4:\n",
    "        a=first_number/second_number\n",
    "        print(\"the division of two numbers:\")\n",
    "        print(\"plese enter only selected number:\")\n",
    "    if user !=1 and user !=2 and  user !=3 and user !=4:\n",
    "        print(\"plese enter only selected options:\")\n",
    "    "
   ]
  },
  {
   "cell_type": "code",
   "execution_count": null,
   "metadata": {},
   "outputs": [],
   "source": []
  }
 ],
 "metadata": {
  "kernelspec": {
   "display_name": "Python 2",
   "language": "python",
   "name": "python2"
  },
  "language_info": {
   "codemirror_mode": {
    "name": "ipython",
    "version": 2
   },
   "file_extension": ".py",
   "mimetype": "text/x-python",
   "name": "python",
   "nbconvert_exporter": "python",
   "pygments_lexer": "ipython2",
   "version": "2.7.15"
  }
 },
 "nbformat": 4,
 "nbformat_minor": 2
}
