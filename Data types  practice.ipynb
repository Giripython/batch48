{
 "cells": [
  {
   "cell_type": "code",
   "execution_count": null,
   "metadata": {},
   "outputs": [],
   "source": [
    "There are eight native datatypes in Python.\n",
    "\n",
    "Boolean\n",
    "Numbers\n",
    "Strings\n",
    "Bytes & Byte Arrays\n",
    "Lists\n",
    "Tuples\n",
    "Sets\n",
    "Dictionaries"
   ]
  },
  {
   "cell_type": "code",
   "execution_count": 6,
   "metadata": {},
   "outputs": [
    {
     "ename": "SyntaxError",
     "evalue": "invalid syntax (<ipython-input-6-4e82ff18aebd>, line 3)",
     "output_type": "error",
     "traceback": [
      "\u001b[1;36m  File \u001b[1;32m\"<ipython-input-6-4e82ff18aebd>\"\u001b[1;36m, line \u001b[1;32m3\u001b[0m\n\u001b[1;33m    boolean=in 3 number\u001b[0m\n\u001b[1;37m             ^\u001b[0m\n\u001b[1;31mSyntaxError\u001b[0m\u001b[1;31m:\u001b[0m invalid syntax\n"
     ]
    }
   ],
   "source": [
    "#\"\"\"Boolean\"\"\"\n",
    "numbers=(1,2,3,4,5,6)\n",
    "boolean=in 3 number\n",
    "print (boolean)"
   ]
  },
  {
   "cell_type": "code",
   "execution_count": 12,
   "metadata": {},
   "outputs": [
    {
     "ename": "SyntaxError",
     "evalue": "invalid syntax (<ipython-input-12-c488d1610db7>, line 3)",
     "output_type": "error",
     "traceback": [
      "\u001b[1;36m  File \u001b[1;32m\"<ipython-input-12-c488d1610db7>\"\u001b[1;36m, line \u001b[1;32m3\u001b[0m\n\u001b[1;33m    boolean=in 3 number\u001b[0m\n\u001b[1;37m             ^\u001b[0m\n\u001b[1;31mSyntaxError\u001b[0m\u001b[1;31m:\u001b[0m invalid syntax\n"
     ]
    }
   ],
   "source": [
    "#\"\"\"\"\"Boolean\"\"\"\"\n",
    "numbers=[1,2,3,4,5,6]\n",
    "boolean=in 3 number\n",
    "print(boolean)"
   ]
  }
 ],
 "metadata": {
  "kernelspec": {
   "display_name": "Python 2",
   "language": "python",
   "name": "python2"
  },
  "language_info": {
   "codemirror_mode": {
    "name": "ipython",
    "version": 2
   },
   "file_extension": ".py",
   "mimetype": "text/x-python",
   "name": "python",
   "nbconvert_exporter": "python",
   "pygments_lexer": "ipython2",
   "version": "2.7.15"
  }
 },
 "nbformat": 4,
 "nbformat_minor": 2
}
