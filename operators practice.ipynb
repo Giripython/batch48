{
 "cells": [
  {
   "cell_type": "code",
   "execution_count": 1,
   "metadata": {},
   "outputs": [
    {
     "name": "stdout",
     "output_type": "stream",
     "text": [
      "30\n",
      "-10\n",
      "200\n",
      "0\n",
      "0\n",
      "100000000000000000000\n",
      "10\n"
     ]
    }
   ],
   "source": [
    "# arithametic operators\n",
    "a=10\n",
    "b=20\n",
    "print a+b\n",
    "print a-b\n",
    "print a*b\n",
    "print a/b\n",
    "print a//b\n",
    "print a**b\n",
    "print a%b"
   ]
  },
  {
   "cell_type": "code",
   "execution_count": 2,
   "metadata": {},
   "outputs": [
    {
     "name": "stdout",
     "output_type": "stream",
     "text": [
      "False\n",
      "True\n",
      "False\n",
      "True\n",
      "False\n",
      "True\n"
     ]
    }
   ],
   "source": [
    "# comparison operators\n",
    "a=10\n",
    "b=20\n",
    "print a==b\n",
    "print a!=b\n",
    "print a>b\n",
    "print a<b\n",
    "print a>=b\n",
    "print a<=b"
   ]
  },
  {
   "cell_type": "code",
   "execution_count": 7,
   "metadata": {},
   "outputs": [
    {
     "name": "stdout",
     "output_type": "stream",
     "text": [
      "50\n",
      "20\n",
      "70\n",
      "50\n",
      "1000\n",
      "50\n",
      "2\n",
      "1048576\n",
      "16\n"
     ]
    }
   ],
   "source": [
    "# assignment operators\n",
    "a=50\n",
    "b=20\n",
    "print a\n",
    "print b \n",
    "\n",
    "a+=b\n",
    "print a\n",
    "a-=b\n",
    "print a\n",
    "a*=b\n",
    "print a\n",
    "a/=b\n",
    "print a\n",
    "a//=b\n",
    "print a\n",
    "a**=b\n",
    "print a\n",
    "a%=b\n",
    "print a"
   ]
  }
 ],
 "metadata": {
  "kernelspec": {
   "display_name": "Python 2",
   "language": "python",
   "name": "python2"
  },
  "language_info": {
   "codemirror_mode": {
    "name": "ipython",
    "version": 2
   },
   "file_extension": ".py",
   "mimetype": "text/x-python",
   "name": "python",
   "nbconvert_exporter": "python",
   "pygments_lexer": "ipython2",
   "version": "2.7.15"
  }
 },
 "nbformat": 4,
 "nbformat_minor": 2
}
