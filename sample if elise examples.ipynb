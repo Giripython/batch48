{
 "cells": [
  {
   "cell_type": "code",
   "execution_count": 3,
   "metadata": {},
   "outputs": [
    {
     "name": "stdout",
     "output_type": "stream",
     "text": [
      "enter number positive\n",
      "a number is printed\n"
     ]
    }
   ],
   "source": [
    "num1=30\n",
    "if num1>0:\n",
    "    print(\"enter number positive\")\n",
    "    print(\"a number is printed\")"
   ]
  },
  {
   "cell_type": "code",
   "execution_count": 4,
   "metadata": {},
   "outputs": [
    {
     "name": "stdout",
     "output_type": "stream",
     "text": [
      "num,enter is passitive number\n",
      "a number is alwsys printed\n"
     ]
    }
   ],
   "source": [
    "num=-2\n",
    "if num<0:\n",
    "    print(\"num,enter is passitive number\")\n",
    "    print(\"a number is alwsys printed\")"
   ]
  },
  {
   "cell_type": "code",
   "execution_count": 7,
   "metadata": {},
   "outputs": [
    {
     "ename": "SyntaxError",
     "evalue": "invalid syntax (<ipython-input-7-b60924dd0180>, line 3)",
     "output_type": "error",
     "traceback": [
      "\u001b[1;36m  File \u001b[1;32m\"<ipython-input-7-b60924dd0180>\"\u001b[1;36m, line \u001b[1;32m3\u001b[0m\n\u001b[1;33m    total_number_of_seats for buses=raw_input=(\"enter total number of seats for buses:\")\u001b[0m\n\u001b[1;37m                            ^\u001b[0m\n\u001b[1;31mSyntaxError\u001b[0m\u001b[1;31m:\u001b[0m invalid syntax\n"
     ]
    }
   ],
   "source": [
    "total_number_of_people=raw_input(\"enter total number of people:\")\n",
    "total_number_of_buses=raw_input(\"enter total number of buses:\")\n",
    "total_number_of_seats for buses=raw_input=(\"enter total number of seats for buses:\")\n",
    "adjust_factor=raw_input(\"entr adjust factor:\")\n",
    "if total<100:\n",
    "    total=\"number_of_people/number_of_buses*number_of_seats\"\n",
    "    print(total)\n",
    "else:\n",
    "    print(\"not required buses\")"
   ]
  }
 ],
 "metadata": {
  "kernelspec": {
   "display_name": "Python 2",
   "language": "python",
   "name": "python2"
  },
  "language_info": {
   "codemirror_mode": {
    "name": "ipython",
    "version": 2
   },
   "file_extension": ".py",
   "mimetype": "text/x-python",
   "name": "python",
   "nbconvert_exporter": "python",
   "pygments_lexer": "ipython2",
   "version": "2.7.15"
  }
 },
 "nbformat": 4,
 "nbformat_minor": 2
}
