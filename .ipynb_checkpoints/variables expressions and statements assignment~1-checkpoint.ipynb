{
 "cells": [
  {
   "cell_type": "code",
   "execution_count": null,
   "metadata": {},
   "outputs": [],
   "source": [
    "# 1.\tTake the input from the user for(Total number of people, total number of buses, Number of seats for bus, adjust factor). \n",
    "# Based on four inputs\n",
    "# Decide whether there is sufficient buses or not and give solution for how many extra buses required.\n",
    "\n",
    "total_number_of_people=raw_input(\"enter total number of people:\")\n",
    "total_number_of_buses=raw_input(\"enter totatl number of buses:\")\n",
    "number_of_seats_for_bus=raw_input(\"enter number of seats for bus:\")\n",
    "adjust_factor=raw_input(\"enter adjust factor:\")\n",
    "if total<100:\n",
    "    print(\"adjust factor in each buses\")\n",
    "else:\n",
    "    print(\"extra buses required\")\n",
    "    "
   ]
  },
  {
   "cell_type": "code",
   "execution_count": null,
   "metadata": {},
   "outputs": [],
   "source": [
    "# 2.\ttake temperature from the user and convert foreign heat -> Celsius.\n",
    "temperature=raw_input(\"enter temperature:\")\n",
    "C=(int(temperatue)-32)*5/9\n",
    "print c\n"
   ]
  },
  {
   "cell_type": "code",
   "execution_count": null,
   "metadata": {},
   "outputs": [],
   "source": [
    "# 3.\ttake temperature from the user and convert Celsius → foreign heat.\n",
    "\n"
   ]
  },
  {
   "cell_type": "code",
   "execution_count": null,
   "metadata": {},
   "outputs": [],
   "source": []
  },
  {
   "cell_type": "code",
   "execution_count": null,
   "metadata": {},
   "outputs": [],
   "source": []
  },
  {
   "cell_type": "code",
   "execution_count": null,
   "metadata": {},
   "outputs": [],
   "source": []
  }
 ],
 "metadata": {
  "kernelspec": {
   "display_name": "Python 2",
   "language": "python",
   "name": "python2"
  },
  "language_info": {
   "codemirror_mode": {
    "name": "ipython",
    "version": 2
   },
   "file_extension": ".py",
   "mimetype": "text/x-python",
   "name": "python",
   "nbconvert_exporter": "python",
   "pygments_lexer": "ipython2",
   "version": "2.7.15"
  }
 },
 "nbformat": 4,
 "nbformat_minor": 2
}
