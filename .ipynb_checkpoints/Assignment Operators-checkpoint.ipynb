{
 "cells": [
  {
   "cell_type": "code",
   "execution_count": 3,
   "metadata": {},
   "outputs": [
    {
     "name": "stdout",
     "output_type": "stream",
     "text": [
      "('a+b=', 30)\n",
      "('a-b=', -10)\n",
      "('a*b=', 200)\n",
      "('a/b=', 0)\n",
      "('a//b=', 0)\n",
      "('a%b=', 10)\n",
      "('a**b=', 100000000000000000000L)\n"
     ]
    }
   ],
   "source": [
    "# arithametic operators\n",
    "a=10\n",
    "b=20\n",
    "print (\"a+b=\",a+b)\n",
    "print (\"a-b=\",a-b)\n",
    "print (\"a*b=\",a*b)\n",
    "print (\"a/b=\",a/b)\n",
    "print (\"a//b=\",a//b)\n",
    "print (\"a%b=\",a%b)\n",
    "print (\"a**b=\",a**b)"
   ]
  },
  {
   "cell_type": "code",
   "execution_count": 42,
   "metadata": {},
   "outputs": [
    {
     "name": "stdout",
     "output_type": "stream",
     "text": [
      "('x>y =', False)\n",
      "('x<y is', True)\n",
      "('x==y is', False)\n",
      "('x!=y is', True)\n",
      "('x>=y is', False)\n",
      "('x<=y is', True)\n"
     ]
    }
   ],
   "source": [
    "# Comparison operators\n",
    "x=20\n",
    "y=30\n",
    "print(\"x>y isss\",x>y)\n",
    "print(\"x<y is\",x<y)\n",
    "print(\"x==y is\",x==y)\n",
    "print(\"x!=y is\",x!=y)\n",
    "print(\"x>=y is\",x>=y)\n",
    "print(\"x<=y is\",x<=y)\n"
   ]
  },
  {
   "cell_type": "code",
   "execution_count": 8,
   "metadata": {},
   "outputs": [
    {
     "name": "stdout",
     "output_type": "stream",
     "text": [
      "('x and y is', 20)\n",
      "('x or y is', 10)\n",
      "('not x is', False)\n"
     ]
    }
   ],
   "source": [
    "# Logical operators\n",
    "x=10 # ture\n",
    "y=20 # false\n",
    "print(\"x and y is\",x and y)\n",
    "print(\"x or y is\",x or y)\n",
    "print(\"not x is\",not x)"
   ]
  },
  {
   "cell_type": "code",
   "execution_count": 26,
   "metadata": {},
   "outputs": [
    {
     "name": "stdout",
     "output_type": "stream",
     "text": [
      "('num1 & num2 =', 0)\n",
      "('num1 | num2=', 30)\n",
      "('num1 ^ num2=', 30)\n",
      "('num1 >> num2=', 0)\n",
      "('num1 << num2=', 10485760)\n"
     ]
    }
   ],
   "source": [
    "# Bitwise operators\n",
    "num1=10\n",
    "num2=20\n",
    "print(\"num1 & num2 =\",num1 & num2)\n",
    "print(\"num1 | num2=\",num1 | num2)\n",
    "print(\"num1 ^ num2=\",num1 ^ num2)\n",
    "print(\"num1 >> num2=\",num1 >> num2)\n",
    "print(\"num1 << num2=\",num1 << num2)"
   ]
  },
  {
   "cell_type": "code",
   "execution_count": 29,
   "metadata": {},
   "outputs": [
    {
     "name": "stdout",
     "output_type": "stream",
     "text": [
      "30\n",
      "50\n",
      "30\n",
      "600\n",
      "30\n",
      "1\n",
      "1\n",
      "0\n",
      "20\n",
      "0\n",
      "20\n",
      "20971520\n",
      "20\n"
     ]
    }
   ],
   "source": [
    "# Assignment operators\n",
    "x=10\n",
    "y=20\n",
    "z=x+y\n",
    "print z\n",
    "z+=y \n",
    "print z\n",
    "z-=y \n",
    "print z\n",
    "z*=y \n",
    "print z\n",
    "z/=y \n",
    "print z\n",
    "z//=y \n",
    "print z\n",
    "z**=y \n",
    "print z\n",
    "z&=y \n",
    "print z\n",
    "z|=y \n",
    "print z\n",
    "z^=y \n",
    "print z\n",
    "z^=y \n",
    "print z\n",
    "z<<=y \n",
    "print z\n",
    "z>>=y \n",
    "print z\n"
   ]
  },
  {
   "cell_type": "code",
   "execution_count": 33,
   "metadata": {},
   "outputs": [
    {
     "name": "stdout",
     "output_type": "stream",
     "text": [
      "('x is y', False)\n",
      "('x is not y', True)\n"
     ]
    }
   ],
   "source": [
    "# Identity operators\n",
    "x=10\n",
    "y=20\n",
    "print(\"x is y\",x is y)\n",
    "print(\"x is not y\",x is not y)"
   ]
  },
  {
   "cell_type": "code",
   "execution_count": 41,
   "metadata": {},
   "outputs": [
    {
     "name": "stdout",
     "output_type": "stream",
     "text": [
      "True\n",
      "False\n"
     ]
    }
   ],
   "source": [
    "# Membership operators\n",
    "a=\"hello world\"\n",
    "print(\"h\" in a)\n",
    "print(\"hello\" not in a)"
   ]
  }
 ],
 "metadata": {
  "kernelspec": {
   "display_name": "Python 2",
   "language": "python",
   "name": "python2"
  },
  "language_info": {
   "codemirror_mode": {
    "name": "ipython",
    "version": 2
   },
   "file_extension": ".py",
   "mimetype": "text/x-python",
   "name": "python",
   "nbconvert_exporter": "python",
   "pygments_lexer": "ipython2",
   "version": "2.7.15"
  }
 },
 "nbformat": 4,
 "nbformat_minor": 2
}
