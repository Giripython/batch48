{
 "cells": [
  {
   "cell_type": "code",
   "execution_count": 7,
   "metadata": {},
   "outputs": [
    {
     "name": "stdout",
     "output_type": "stream",
     "text": [
      "enter a value:20\n",
      "(20, 'given is even number:')\n"
     ]
    }
   ],
   "source": [
    "# 7.\t Take number from the user decide whether it is even or odd.\n",
    "x=raw_input(\"enter a value:\")\n",
    "x=int(x)\n",
    "if x%2==0:\n",
    "    print(x,\"given is even number:\")\n",
    "else:\n",
    "    print(x,\"given is odd number:\")\n"
   ]
  },
  {
   "cell_type": "code",
   "execution_count": 11,
   "metadata": {},
   "outputs": [
    {
     "name": "stdout",
     "output_type": "stream",
     "text": [
      "enter a value:50\n",
      "(50, 'given number is positive number:')\n"
     ]
    }
   ],
   "source": [
    "# 8.\ttake number from the user decide whether it is positive number or negative number\n",
    "a=raw_input(\"enter a value:\")\n",
    "a=int(a)\n",
    "if a>0:\n",
    "    print(a,\"given number is positive number:\")\n",
    "else:\n",
    "    print(a,\"given number is negative number:\")"
   ]
  },
  {
   "cell_type": "code",
   "execution_count": 12,
   "metadata": {},
   "outputs": [
    {
     "name": "stdout",
     "output_type": "stream",
     "text": [
      "enter a program name:python\n",
      "6\n"
     ]
    }
   ],
   "source": [
    "# 9.\t116. take a string from the user print the length. if the user not given anything then show an error message\n",
    "num1=raw_input(\"enter a program name:\")\n",
    "if num1:\n",
    "    print len(num1)\n",
    "else:\n",
    "    print(\"error,program name invalid:\")\n"
   ]
  },
  {
   "cell_type": "code",
   "execution_count": 2,
   "metadata": {},
   "outputs": [
    {
     "name": "stdout",
     "output_type": "stream",
     "text": [
      "code perform mathematical operation\n",
      "\t1.addition\n",
      "\t2.substraction\n",
      "\t3.multification\n",
      "\t4.divission\n",
      "\t5.quit\n",
      "enter a number:10\n",
      "enter a number:5\n",
      "plesne enter only selected  all above option:\n",
      "enter an option3\n"
     ]
    }
   ],
   "source": [
    "#10.\t117. code to perform mathematical operations. take two numbers from the user: 1. add, 2. sub, 3. mul, 4.div, 5.quit\n",
    "    \n",
    "print(\"code perform mathematical operation\\n\\t1.addition\\n\\t2.substraction\\n\\t3.multification\\n\\t4.divission\\n\\t5.quit\")\n",
    "x=raw_input(\"enter a number:\")\n",
    "y=raw_input(\"enter a number:\")\n",
    "print(\"plesne enter only selected  all above option:\")\n",
    "option=raw_input(\"enter an option\")\n",
    "if option==1:\n",
    "    print int(x)+int(y)\n",
    "if option==2:\n",
    "    print int(x)-int(y)\n",
    "if option==3:\n",
    "    print int(x)*int(y)\n",
    "if option==4:\n",
    "    print int(x)/int(x)\n",
    "if option==5:\n",
    "    quit()\n",
    "    "
   ]
  },
  {
   "cell_type": "code",
   "execution_count": 15,
   "metadata": {},
   "outputs": [
    {
     "name": "stdout",
     "output_type": "stream",
     "text": [
      "code to perform the mathametical operation\n",
      "\t1.addition\n",
      "\t2.substraction\n",
      "\t3.multification\n",
      "\t4.division\n",
      "\t5.quit:\n",
      "enter first number:10\n",
      "enter second number:20\n"
     ]
    }
   ],
   "source": [
    "print(\"code to perform the mathametical operation\\n\\t1.addition\\n\\t2.substraction\\n\\t3.multification\\n\\t4.division\\n\\t5.quit:\")\n",
    "first_number=raw_input(\"enter first number:\")                                                \n",
    "second_number=raw_input(\"enter second number:\")"
   ]
  },
  {
   "cell_type": "code",
   "execution_count": 16,
   "metadata": {},
   "outputs": [
    {
     "name": "stdout",
     "output_type": "stream",
     "text": [
      "select the belowe option\n",
      "\t1.kids\n",
      "\t2.mens\n",
      "\t3womens\n",
      "\t\n",
      "plese select any one correct option\n",
      "enter select the any one option menu:2\n",
      "thank you:\n"
     ]
    }
   ],
   "source": [
    "# 11.\t118. show the menu:\n",
    "#     1. kids\n",
    "#     2. Men's\n",
    "#     3. Women's\n",
    "#     Show the corresponding message based on the selection. Mention error message if he enter >3.\n",
    "print(\"select the belowe option\\n\\t1.kids\\n\\t2.mens\\n\\t3womens\\n\\t\")\n",
    "print(\"plese select any one correct option\")\n",
    "option=raw_input(\"enter select the any one option menu:\")\n",
    "if option==1:\n",
    "    print(\"you have selected kids were related items in first floor\")\n",
    "if option==2:\n",
    "    print(\"you have selected mens were related items in second floor\")\n",
    "if option==3:\n",
    "    print(\"you have selected womens were related items in third floor\")\n",
    "print(\"thank you:\")"
   ]
  },
  {
   "cell_type": "code",
   "execution_count": 2,
   "metadata": {},
   "outputs": [
    {
     "name": "stdout",
     "output_type": "stream",
     "text": [
      "enter a string:yadagiri\n",
      "substracting available\n"
     ]
    }
   ],
   "source": [
    "# 13.\t write a program to chek given substring is there in actual string or not? (search should be case insensitive\n",
    "string=raw_input(\"enter a string:\")\n",
    "string=(\"yadagiri\")\n",
    "if string==string:\n",
    "    print(\"substracting available\")\n",
    "else:\n",
    "    print(\"substracting not avilable\")\n"
   ]
  },
  {
   "cell_type": "code",
   "execution_count": 56,
   "metadata": {},
   "outputs": [
    {
     "ename": "TypeError",
     "evalue": "'str' object is not callable",
     "output_type": "error",
     "traceback": [
      "\u001b[1;31m---------------------------------------------------------------------------\u001b[0m",
      "\u001b[1;31mTypeError\u001b[0m                                 Traceback (most recent call last)",
      "\u001b[1;32m<ipython-input-56-1d39a9a56950>\u001b[0m in \u001b[0;36m<module>\u001b[1;34m()\u001b[0m\n\u001b[0;32m      1\u001b[0m \u001b[1;31m# 14.   Take three numbers from the user and decide which is big\u001b[0m\u001b[1;33m\u001b[0m\u001b[1;33m\u001b[0m\u001b[0m\n\u001b[0;32m      2\u001b[0m \u001b[1;33m\u001b[0m\u001b[0m\n\u001b[1;32m----> 3\u001b[1;33m \u001b[0ma\u001b[0m\u001b[1;33m=\u001b[0m\u001b[0mraw_input\u001b[0m\u001b[1;33m(\u001b[0m\u001b[1;34m\"enter first number:\"\u001b[0m\u001b[1;33m)\u001b[0m\u001b[1;33m\u001b[0m\u001b[0m\n\u001b[0m\u001b[0;32m      4\u001b[0m \u001b[0mb\u001b[0m\u001b[1;33m=\u001b[0m\u001b[0mraw_input\u001b[0m\u001b[1;33m(\u001b[0m\u001b[1;34m\"enter second number:\"\u001b[0m\u001b[1;33m)\u001b[0m\u001b[1;33m\u001b[0m\u001b[0m\n\u001b[0;32m      5\u001b[0m \u001b[0mc\u001b[0m\u001b[1;33m=\u001b[0m\u001b[0mraw_input\u001b[0m\u001b[1;33m(\u001b[0m\u001b[1;34m\"enter third number:\"\u001b[0m\u001b[1;33m)\u001b[0m\u001b[1;33m\u001b[0m\u001b[0m\n",
      "\u001b[1;31mTypeError\u001b[0m: 'str' object is not callable"
     ]
    }
   ],
   "source": [
    "# 14.\tTake three numbers from the user and decide which is big\n",
    "\n",
    "a=raw_input(\"enter first number:\")\n",
    "b=raw_input(\"enter second number:\")\n",
    "c=raw_input(\"enter third number:\")\n",
    "if a>b and a>c:\n",
    "    print(\"first number is big\")\n",
    "if b>a and b>c:\n",
    "    print(\"second number is big\")\n",
    "if c>a and c>b:\n",
    "    print(\"third number is big\")\n",
    "print(\"thank q\") \n",
    "s\n"
   ]
  },
  {
   "cell_type": "code",
   "execution_count": null,
   "metadata": {},
   "outputs": [],
   "source": [
    "# 15.Take age and gender from the user and decide whether he is eligible for marriage in India or not. \n",
    "# Age criteria: men age>22, women>18\n",
    "\n",
    "\n"
   ]
  },
  {
   "cell_type": "code",
   "execution_count": 41,
   "metadata": {},
   "outputs": [
    {
     "ename": "SyntaxError",
     "evalue": "invalid syntax (<ipython-input-41-245ca3d63f0a>, line 25)",
     "output_type": "error",
     "traceback": [
      "\u001b[1;36m  File \u001b[1;32m\"<ipython-input-41-245ca3d63f0a>\"\u001b[1;36m, line \u001b[1;32m25\u001b[0m\n\u001b[1;33m    else:\u001b[0m\n\u001b[1;37m       ^\u001b[0m\n\u001b[1;31mSyntaxError\u001b[0m\u001b[1;31m:\u001b[0m invalid syntax\n"
     ]
    }
   ],
   "source": [
    "# 16.\tTake an age  and gender from the user: and mention that what he/she can do in india.\n",
    "\n",
    "# Eligibility:\n",
    "#    1. Theatre: 5 for men 7 for women\n",
    "#    2. Voting system: 18 for men and women\n",
    "#    3. Marriage in india: 23 for men and for women >28\n",
    "#    4. For govt jobs: 18 for men and women\n",
    "#    5. For driving licence: 18 for men and women\n",
    "#    Enter an option:\n",
    "#    Enter an age:\n",
    "        \n",
    "print(\"eligibility:\\n\\t1.theater\\n\\t2.voting system\\n\\t3.marriage in india\\n\\t4.for govt jobs\\n\\t5.for driving licenes\")        \n",
    "a=raw_input=(\"enter an option:\")\n",
    "print(\"theater:\\n\\t1.5 for men\\n\\t2.7 for women\")\n",
    "b=raw_input(\"enter Gender option:\")\n",
    "age=int(raw_input(\"enter an age of person:\"))\n",
    "if a==1:\n",
    "    print(\"evaluvating theater\")\n",
    "if b==1:\n",
    "    print(\"evaluvating for men\")\n",
    "if age>=5:\n",
    "    print(\"eligible for entry in theater\")\n",
    "else:\n",
    "    print(\"not eligible for watching movie\")\n",
    "else:\n",
    "    print(\"evaluvating for women\")\n",
    "if age>=7:\n",
    "    print(\"eligible for entry in theater\")\n",
    "else:\n",
    "        print(\"not eligible for watching movie\")"
   ]
  },
  {
   "cell_type": "code",
   "execution_count": 23,
   "metadata": {},
   "outputs": [
    {
     "name": "stdout",
     "output_type": "stream",
     "text": [
      "operating system:\n",
      "\t1.windows\n",
      "\t2.android\n",
      "\t3.mac\n",
      "there is only three floors,please select 1 or 2 or 3:\n",
      "select the one option:2\n",
      "thnak q\n"
     ]
    }
   ],
   "source": [
    "# 17.operating systems:\n",
    "#    1.windows\n",
    "#    2.android\n",
    "#    3.mac\n",
    "# Enter an option:\n",
    "\n",
    "# If the user enters 1 then show \"Goto first floor and buy windows laptop or mobile\"\n",
    "# If the user enters 2 then show \"Goto second floor and buy adroid mobiles\"\n",
    "# If the user enters 3 then show \"Goto third floor and buy mac laptop or iphones\"\n",
    "# If the user enters other than 1 or 2 or 3 then show \"There is only three floors, please select 1 or 2 or 3\"\n",
    "\n",
    "print(\"operating system:\\n\\t1.windows\\n\\t2.android\\n\\t3.mac\")\n",
    "print(\"there is only three floors,please select 1 or 2 or 3:\")\n",
    "option=raw_input(\"select the one option:\")\n",
    "if option==1:\n",
    "    print(\"goto first floor and buy windows or laptop or mobile\")\n",
    "if option==2:\n",
    "    print(\"goto second floor and buy windows or laptop or mobile\")\n",
    "if option==3:\n",
    "    print(\"goto third floor and buy windows or laptop or mobile\")\n",
    "else:\n",
    "    print(\"thnak q\")\n",
    "    "
   ]
  }
 ],
 "metadata": {
  "kernelspec": {
   "display_name": "Python 2",
   "language": "python",
   "name": "python2"
  },
  "language_info": {
   "codemirror_mode": {
    "name": "ipython",
    "version": 2
   },
   "file_extension": ".py",
   "mimetype": "text/x-python",
   "name": "python",
   "nbconvert_exporter": "python",
   "pygments_lexer": "ipython2",
   "version": "2.7.15"
  }
 },
 "nbformat": 4,
 "nbformat_minor": 2
}
