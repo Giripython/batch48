{
 "cells": [
  {
   "cell_type": "code",
   "execution_count": 5,
   "metadata": {},
   "outputs": [
    {
     "name": "stdout",
     "output_type": "stream",
     "text": [
      "enter total number of people:60\n",
      "enter total number of seats for buses:3\n",
      "extra buses are required\n"
     ]
    }
   ],
   "source": [
    "\"\"\" 1.Take the input from the user for(Total number of people,Number of seats for bus. Based on two inputs\n",
    "Decide how many number of buses required \"\"\"\n",
    "\n",
    "people=raw_input(\"enter total number of people:\")\n",
    "bus=raw_input(\"enter total number of seats for buses:\")\n",
    "if people>100:\n",
    "    print \"extra buses are required\"\n",
    "else:\n",
    "    print \"extra buses are not required\"\n"
   ]
  },
  {
   "cell_type": "code",
   "execution_count": 10,
   "metadata": {},
   "outputs": [
    {
     "name": "stdout",
     "output_type": "stream",
     "text": [
      "enter temperature:60\n",
      "15degree celsius\n"
     ]
    }
   ],
   "source": [
    "\"\"\"2.take temperature from the user and convert foreign heat -> Celsius\"\"\"\n",
    "\n",
    "temperature=raw_input(\"enter temperature:\")\n",
    "c= (int(temperature)-32) * 5/9\n",
    "print str(c)+ \"degree celsius\""
   ]
  },
  {
   "cell_type": "code",
   "execution_count": 22,
   "metadata": {},
   "outputs": [
    {
     "name": "stdout",
     "output_type": "stream",
     "text": [
      "enter temperature:35\n",
      "39forign heat\n"
     ]
    }
   ],
   "source": [
    "\"\"\" 3.take temperature from the user and convert Celsius → foreign heat.\"\"\"\n",
    "\n",
    "temperature=raw_input(\"enter temperature:\")\n",
    "f=(int(temperature)+(32*5))/5\n",
    "print str(f)+ \"forign heat\""
   ]
  },
  {
   "cell_type": "code",
   "execution_count": 29,
   "metadata": {},
   "outputs": [
    {
     "ename": "SyntaxError",
     "evalue": "EOL while scanning string literal (<ipython-input-29-d9035de7ddb5>, line 15)",
     "output_type": "error",
     "traceback": [
      "\u001b[1;36m  File \u001b[1;32m\"<ipython-input-29-d9035de7ddb5>\"\u001b[1;36m, line \u001b[1;32m15\u001b[0m\n\u001b[1;33m    Find the sum of four numbers \"\"\"\"\u001b[0m\n\u001b[1;37m                                     \n^\u001b[0m\n\u001b[1;31mSyntaxError\u001b[0m\u001b[1;31m:\u001b[0m EOL while scanning string literal\n"
     ]
    }
   ],
   "source": [
    "\"\"\" 4.take four number from the user\n",
    " Do the below operations\n",
    " (a+b)**2, (c+d)**3\n",
    "variance\n",
    "standard deviation: sqrt(variance):  User math module. Math.sqrt(variance)\n",
    "Regression\n",
    "     y=mx+b\n",
    "          All a,b,c,d are consider as (x1,x2,x3,x4)\n",
    "          m=1.23\n",
    "          b=0.045\n",
    "          find out y\n",
    "          y=m(x1+x2+x3+x4)+b\n",
    " Factorial of every number\n",
    " Find the average of four numbers\n",
    "Find the sum of four numbers \"\"\"\"\n",
    "\n",
    "\n",
    "a=raw_input(\"enter a: \")\n",
    "b=raw_input(\"enter b: \")\n",
    "c=raw_input(\"enter c: \")\n",
    "d=raw_input(\"enter d: \")\n",
    "value=int(a)+int(b)+int(c)+int(d)\n",
    "print \"the average given four number value:\",int(value)\n"
   ]
  },
  {
   "cell_type": "code",
   "execution_count": null,
   "metadata": {},
   "outputs": [],
   "source": []
  },
  {
   "cell_type": "code",
   "execution_count": null,
   "metadata": {},
   "outputs": [],
   "source": []
  },
  {
   "cell_type": "code",
   "execution_count": 20,
   "metadata": {},
   "outputs": [
    {
     "name": "stdout",
     "output_type": "stream",
     "text": [
      "enter person name:GIRI\n",
      "enter person age:25\n",
      "enter person height:5.6\n",
      " Name:GIRI, Age:25, Height:5.60\n"
     ]
    }
   ],
   "source": [
    "\"\"\" 7.  Take name, age, height from the user and print like below\n",
    "The details of the person: Name:name of the person, Age:age of the person, Height:height of the person\n",
    "Note: make sure that no space between : and a value and should be space after “COMA” \"\"\"\n",
    "\n",
    "name=raw_input(\"enter person name:\")\n",
    "age=int(raw_input(\"enter person age:\"))\n",
    "height=float(raw_input(\"enter person height:\"))\n",
    "print \"Name:%s, Age:%d, Height:%.2f\"%(name,age,height)\n"
   ]
  },
  {
   "cell_type": "code",
   "execution_count": 19,
   "metadata": {},
   "outputs": [
    {
     "name": "stdout",
     "output_type": "stream",
     "text": [
      "enter BMI weight:2.5\n",
      "enter BMI height:3.6\n",
      "calculate the BMI value:"
     ]
    },
    {
     "ename": "NameError",
     "evalue": "name 'BMI' is not defined",
     "output_type": "error",
     "traceback": [
      "\u001b[1;31m---------------------------------------------------------------------------\u001b[0m",
      "\u001b[1;31mNameError\u001b[0m                                 Traceback (most recent call last)",
      "\u001b[1;32m<ipython-input-19-7e2ae0cff034>\u001b[0m in \u001b[0;36m<module>\u001b[1;34m()\u001b[0m\n\u001b[0;32m      4\u001b[0m \u001b[0mBMI_height\u001b[0m\u001b[1;33m=\u001b[0m\u001b[0mraw_input\u001b[0m\u001b[1;33m(\u001b[0m\u001b[1;34m\"enter BMI height:\"\u001b[0m\u001b[1;33m)\u001b[0m\u001b[1;33m\u001b[0m\u001b[0m\n\u001b[0;32m      5\u001b[0m \u001b[0mBMI_calculate\u001b[0m\u001b[1;33m=\u001b[0m\u001b[1;33m(\u001b[0m\u001b[0mfloat\u001b[0m\u001b[1;33m(\u001b[0m\u001b[0mBMI_weight\u001b[0m\u001b[1;33m)\u001b[0m\u001b[1;33m/\u001b[0m\u001b[0mfloat\u001b[0m\u001b[1;33m(\u001b[0m\u001b[0mBMI_height\u001b[0m\u001b[1;33m)\u001b[0m\u001b[1;33m*\u001b[0m\u001b[1;36m2\u001b[0m\u001b[1;33m)\u001b[0m\u001b[1;33m\u001b[0m\u001b[0m\n\u001b[1;32m----> 6\u001b[1;33m \u001b[1;32mprint\u001b[0m \u001b[1;34m\"calculate the BMI value:\"\u001b[0m\u001b[1;33m,\u001b[0m\u001b[0mBMI\u001b[0m\u001b[1;33m\u001b[0m\u001b[0m\n\u001b[0m",
      "\u001b[1;31mNameError\u001b[0m: name 'BMI' is not defined"
     ]
    }
   ],
   "source": [
    "\"\"\" 8. BMI calculation: take required parameters for BMI calculation from the user and calculate BMI of the person.\"\"\"\n",
    "\n",
    "BMI_weight=raw_input(\"enter BMI weight:\")\n",
    "BMI_height=raw_input(\"enter BMI height:\")\n",
    "BMI_calculate=(float(BMI_weight)/float(BMI_height)*2)\n",
    "print \"calculate the BMI value:\",BMI\n"
   ]
  },
  {
   "cell_type": "code",
   "execution_count": 12,
   "metadata": {},
   "outputs": [
    {
     "name": "stdout",
     "output_type": "stream",
     "text": [
      "enter name:jayaram\n",
      "enter age:52\n",
      "enter height:6.2\n",
      "enter weight:82\n",
      "Name:jayaram, Age:52, Height:6.20, Weight:82.00\n"
     ]
    }
   ],
   "source": [
    "\"\"\"  9. name=\"Jayaram\"\n",
    "      age=1.6\n",
    "      height=3.5356234\n",
    "      weight=10.343856783\n",
    "By using above inputs print the output\n",
    "Name:Jayaram, Age:1.6, Height:3.54, Weight:10.344\n",
    "Note: Use format specifiers(%s, %d, %f)  \"\"\"\n",
    "\n",
    "name=raw_input(\"enter name:\")\n",
    "age=int(raw_input(\"enter age:\"))\n",
    "height=float(raw_input(\"enter height:\"))\n",
    "weight=float(raw_input(\"enter weight:\"))\n",
    "print \"Name:%s, Age:%d, Height:%.2f, Weight:%.2f\" %(name,age,height,weight)\n"
   ]
  },
  {
   "cell_type": "code",
   "execution_count": 11,
   "metadata": {},
   "outputs": [
    {
     "name": "stdout",
     "output_type": "stream",
     "text": [
      "enter a lower case latter:giri\n",
      "GIRI\n"
     ]
    }
   ],
   "source": [
    "\"\"\"10. Take three small case letters from the user convert in to uppercase.\"\"\"\n",
    "\n",
    "\n",
    "latters=raw_input(\"enter a lower case latter:\")\n",
    "print latters.upper()\n"
   ]
  }
 ],
 "metadata": {
  "kernelspec": {
   "display_name": "Python 2",
   "language": "python",
   "name": "python2"
  },
  "language_info": {
   "codemirror_mode": {
    "name": "ipython",
    "version": 2
   },
   "file_extension": ".py",
   "mimetype": "text/x-python",
   "name": "python",
   "nbconvert_exporter": "python",
   "pygments_lexer": "ipython2",
   "version": "2.7.15"
  }
 },
 "nbformat": 4,
 "nbformat_minor": 2
}
