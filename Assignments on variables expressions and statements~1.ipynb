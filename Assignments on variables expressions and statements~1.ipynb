{
 "cells": [
  {
   "cell_type": "code",
   "execution_count": 1,
   "metadata": {},
   "outputs": [
    {
     "name": "stdout",
     "output_type": "stream",
     "text": [
      "enter total number of people:560\n",
      "enter total number of seats for buses:10\n",
      "extra buses are required\n"
     ]
    }
   ],
   "source": [
    "\"\"\" 1.Take the input from the user for(Total number of people,Number of seats for bus. Based on two inputs\n",
    "Decide how many number of buses required \"\"\"\n",
    "\n",
    "people=raw_input(\"enter total number of people:\")\n",
    "bus=raw_input(\"enter total number of seats for buses:\")\n",
    "if people>100:\n",
    "    print \"extra buses are required\"\n",
    "else:\n",
    "    print \"extra buses are not required\"\n"
   ]
  },
  {
   "cell_type": "code",
   "execution_count": 2,
   "metadata": {},
   "outputs": [
    {
     "name": "stdout",
     "output_type": "stream",
     "text": [
      "enter temperature:45\n",
      "7degree celsius\n"
     ]
    }
   ],
   "source": [
    "\"\"\"2.take temperature from the user and convert foreign heat -> Celsius\"\"\"\n",
    "\n",
    "temperature=raw_input(\"enter temperature:\")\n",
    "c= (int(temperature)-32) * 5/9\n",
    "print str(c)+ \"degree celsius\""
   ]
  },
  {
   "cell_type": "code",
   "execution_count": 3,
   "metadata": {},
   "outputs": [
    {
     "name": "stdout",
     "output_type": "stream",
     "text": [
      "enter temperature:25\n",
      "37forign heat\n"
     ]
    }
   ],
   "source": [
    "\"\"\" 3.take temperature from the user and convert Celsius → foreign heat.\"\"\"\n",
    "\n",
    "temperature=raw_input(\"enter temperature:\")\n",
    "f=(int(temperature)+(32*5))/5\n",
    "print str(f)+ \"forign heat\""
   ]
  },
  {
   "cell_type": "code",
   "execution_count": 7,
   "metadata": {},
   "outputs": [
    {
     "name": "stdout",
     "output_type": "stream",
     "text": [
      "enter a: 25\n",
      "enter b: 30\n",
      "enter c: 56\n",
      "enter d: 23\n",
      "6400900\n",
      "31618129\n"
     ]
    }
   ],
   "source": [
    "\"\"\" 4.take four number from the user\n",
    " Do the below operations\n",
    " (a+b)**2, (c+d)**3\n",
    "variance\n",
    "standard deviation: sqrt(variance):  User math module. Math.sqrt(variance)\n",
    "Regression\n",
    "     y=mx+b\n",
    "          All a,b,c,d are consider as (x1,x2,x3,x4)\n",
    "          m=1.23\n",
    "          b=0.045\n",
    "          find out y\n",
    "          y=m(x1+x2+x3+x4)+b\n",
    " Factorial of every number\n",
    " Find the average of four numbers\n",
    "Find the sum of four numbers \"\"\"\n",
    "\n",
    " \n",
    "    \n",
    "a=raw_input(\"enter a: \")\n",
    "b=raw_input(\"enter b: \")\n",
    "c=raw_input(\"enter c: \")\n",
    "d=raw_input(\"enter d: \")\n",
    "x=int(a+b)**2\n",
    "y=int(c+d)**2\n",
    "print x\n",
    "print y\n"
   ]
  },
  {
   "cell_type": "code",
   "execution_count": 8,
   "metadata": {},
   "outputs": [
    {
     "name": "stdout",
     "output_type": "stream",
     "text": [
      "enter a: 1\n",
      "enter b: 2\n",
      "enter c: 3\n",
      "enter d: 4\n",
      "144\n",
      "1156\n"
     ]
    }
   ],
   "source": [
    "\"\"\" 4.take four number from the user\n",
    " Do the below operations\n",
    " (a+b)**2, (c+d)**3\n",
    "variance\n",
    "standard deviation: sqrt(variance):  User math module. Math.sqrt(variance)\n",
    "Regression\n",
    "     y=mx+b\n",
    "          All a,b,c,d are consider as (x1,x2,x3,x4)\n",
    "          m=1.23\n",
    "          b=0.045\n",
    "          find out y\n",
    "          y=m(x1+x2+x3+x4)+b\n",
    " Factorial of every number\n",
    " Find the average of four numbers\n",
    "Find the sum of four numbers \"\"\"\n",
    "\n",
    " \n",
    "    \n",
    "a=raw_input(\"enter a: \")\n",
    "b=raw_input(\"enter b: \")\n",
    "c=raw_input(\"enter c: \")\n",
    "d=raw_input(\"enter d: \")\n",
    "value1=int(a+b)**2\n",
    "value2=int(c+d)**2\n",
    "print value1\n",
    "print value2\n"
   ]
  },
  {
   "cell_type": "code",
   "execution_count": 27,
   "metadata": {},
   "outputs": [
    {
     "name": "stdout",
     "output_type": "stream",
     "text": [
      "enter km6\n",
      "total kilometer 6 km is: 6000 meters\n"
     ]
    }
   ],
   "source": [
    "\"\"\" 5. Take the distance in km  \"\"\"\n",
    "\n",
    "km=raw_input(\"enter km\")\n",
    "meter=500\n",
    "print \"total kilometer\",int(km),\"km is:\",int(km)*meters,\"meters\"\n"
   ]
  },
  {
   "cell_type": "code",
   "execution_count": 24,
   "metadata": {},
   "outputs": [
    {
     "name": "stdout",
     "output_type": "stream",
     "text": [
      "enter a km5\n",
      "total kilometer 5  km is:  5000 meters\n"
     ]
    }
   ],
   "source": [
    "\"\"\"  5.\t Take the distance in km  \"\"\"\n",
    "\n",
    "km=raw_input(\"enter a km\")\n",
    "meters=1000\n",
    "print \"total kilometer\",int(km),\" km is: \",int(km)*meters, \"meters\"\n"
   ]
  },
  {
   "cell_type": "code",
   "execution_count": 9,
   "metadata": {},
   "outputs": [
    {
     "name": "stdout",
     "output_type": "stream",
     "text": [
      "enter size of your disk in GB:1025\n",
      "the size of given GB in to MB is:  1025000\n",
      "MB:1025000, KB:1025000000, TB:01f, PB:00f\n"
     ]
    }
   ],
   "source": [
    "\"\"\"  6.Take the size of your hard disk in GB\n",
    "              Show that in MB, KB, TB, PB\"\"\"\n",
    "\n",
    "size=int(raw_input(\"enter size of your disk in GB:\"))\n",
    "MB=size*1000\n",
    "KB=MB*1000\n",
    "TB=float(size/1000)\n",
    "PB=float(TB/1000)\n",
    "print\"the size of given GB in to MB is: \",size*1000\n",
    "print \"MB:%d, KB:%d, TB:%.2df, PB:%.2df\"%(MB,KB,TB,PB)"
   ]
  },
  {
   "cell_type": "code",
   "execution_count": 18,
   "metadata": {},
   "outputs": [
    {
     "name": "stdout",
     "output_type": "stream",
     "text": [
      "enter person name:giri\n",
      "enter person age:25\n",
      "enter person height:5.6\n",
      "Name:giri, Age:25, Height:5.60\n"
     ]
    }
   ],
   "source": [
    "\"\"\" 7.  Take name, age, height from the user and print like below\n",
    "The details of the person: Name:name of the person, Age:age of the person, Height:height of the person\n",
    "Note: make sure that no space between : and a value and should be space after “COMA” \"\"\"\n",
    "\n",
    "name=raw_input(\"enter person name:\")\n",
    "age=int(raw_input(\"enter person age:\"))\n",
    "height=float(raw_input(\"enter person height:\"))\n",
    "print \"Name:%s, Age:%d, Height:%.2f\"%(name,age,height)\n"
   ]
  },
  {
   "cell_type": "code",
   "execution_count": 12,
   "metadata": {},
   "outputs": [
    {
     "name": "stdout",
     "output_type": "stream",
     "text": [
      "enter BMI weight:23\n",
      "enter BMI height:3.5\n",
      "calculate the BMI value 12.7214285714\n"
     ]
    }
   ],
   "source": [
    "\"\"\" 8. BMI calculation: take required parameters for BMI calculation from the user and calculate BMI of the person.\"\"\"\n",
    "\n",
    "BMI_weight=raw_input(\"enter BMI weight:\")\n",
    "BMI_height=raw_input(\"enter BMI height:\")\n",
    "BMI_calculate=(float(BMI_weight)/float(BMI_height)*2)\n",
    "print \"calculate the BMI value\",BMI\n"
   ]
  },
  {
   "cell_type": "code",
   "execution_count": 11,
   "metadata": {},
   "outputs": [
    {
     "name": "stdout",
     "output_type": "stream",
     "text": [
      "enter BMI weight:35.62\n",
      "enter BMI height:5.6\n",
      "calculate the BMI of the value 12.7214285714\n"
     ]
    }
   ],
   "source": [
    "\"\"\" 8. BMI calculation: take required parameters for BMI calculation from the user and calculate BMI of the person.\"\"\"\n",
    "\n",
    "weight=raw_input(\"enter BMI weight:\")\n",
    "height=raw_input(\"enter BMI height:\")\n",
    "BMI=(float(weight)/float(height)*2)\n",
    "print \"calculate the BMI of the value\", BMI\n"
   ]
  },
  {
   "cell_type": "code",
   "execution_count": 21,
   "metadata": {},
   "outputs": [
    {
     "name": "stdout",
     "output_type": "stream",
     "text": [
      "enter name:jayaram\n",
      "enter age:62\n",
      "enter height:5.4\n",
      "enter weight:68\n",
      "Name:jayaram, Age:62, Height:5.40, Weight:68.00\n"
     ]
    }
   ],
   "source": [
    "\"\"\"  9. name=\"Jayaram\"\n",
    "      age=1.6\n",
    "      height=3.5356234\n",
    "      weight=10.343856783\n",
    "By using above inputs print the output\n",
    "Name:Jayaram, Age:1.6, Height:3.54, Weight:10.344\n",
    "Note: Use format specifiers(%s, %d, %f)  \"\"\"\n",
    "\n",
    "name=raw_input(\"enter name:\")\n",
    "age=int(raw_input(\"enter age:\"))\n",
    "height=float(raw_input(\"enter height:\"))\n",
    "weight=float(raw_input(\"enter weight:\"))\n",
    "print \"Name:%s, Age:%d, Height:%.2f, Weight:%.2f\" %(name,age,height,weight)\n"
   ]
  },
  {
   "cell_type": "code",
   "execution_count": 20,
   "metadata": {},
   "outputs": [
    {
     "name": "stdout",
     "output_type": "stream",
     "text": [
      "enter name:jayaram\n",
      "enter age:45\n",
      "enter height:6.2\n",
      "enter weight:75.65\n",
      "Name:jayaram, Age:45, Height:6.20, Weight:75.65\n"
     ]
    }
   ],
   "source": [
    "\"\"\"  9. name=\"Jayaram\"\n",
    "      age=1.6\n",
    "      height=3.5356234\n",
    "      weight=10.343856783\n",
    "By using above inputs print the output\n",
    "Name:Jayaram, Age:1.6, Height:3.54, Weight:10.344\n",
    "Note: Use format specifiers(%s, %d, %f)  \"\"\"\n",
    "\n",
    "name=raw_input(\"enter name:\")\n",
    "age=int(raw_input(\"enter age:\"))\n",
    "height=float(raw_input(\"enter height:\"))\n",
    "weight=float(raw_input(\"enter weight:\"))\n",
    "print \"Name:%s, Age:%d, Height:%.2f, Weight:%.2f\" %(name,age,height,weight)\n"
   ]
  },
  {
   "cell_type": "code",
   "execution_count": 19,
   "metadata": {},
   "outputs": [
    {
     "name": "stdout",
     "output_type": "stream",
     "text": [
      "Name:GIRI, Age:25, Height:5.60, weight:72.35\n"
     ]
    }
   ],
   "source": [
    "name=\"GIRI\"\n",
    "age=25\n",
    "height=5.6\n",
    "weight=72.35\n",
    "print \"Name:%s, Age:%d, Height:%.2f, weight:%.2f\"%(name,age,height,weight)\n"
   ]
  },
  {
   "cell_type": "code",
   "execution_count": 5,
   "metadata": {},
   "outputs": [
    {
     "name": "stdout",
     "output_type": "stream",
     "text": [
      "enter a small case latter:giri\n",
      "GIRI\n"
     ]
    }
   ],
   "source": [
    "\"\"\"10. Take three small case letters from the user convert in to uppercase.\"\"\"\n",
    "\n",
    "name=raw_input(\"enter a small case latter:\")\n",
    "print name.upper()\n"
   ]
  },
  {
   "cell_type": "code",
   "execution_count": 3,
   "metadata": {},
   "outputs": [
    {
     "name": "stdout",
     "output_type": "stream",
     "text": [
      "enter a lower case latter:abc\n",
      "ABC\n"
     ]
    }
   ],
   "source": [
    "\"\"\"10. Take three small case letters from the user convert in to uppercase.\"\"\"\n",
    "\n",
    "\n",
    "latters=raw_input(\"enter a lower case latter:\")\n",
    "print latters.upper()\n"
   ]
  }
 ],
 "metadata": {
  "kernelspec": {
   "display_name": "Python 2",
   "language": "python",
   "name": "python2"
  },
  "language_info": {
   "codemirror_mode": {
    "name": "ipython",
    "version": 2
   },
   "file_extension": ".py",
   "mimetype": "text/x-python",
   "name": "python",
   "nbconvert_exporter": "python",
   "pygments_lexer": "ipython2",
   "version": "2.7.15"
  }
 },
 "nbformat": 4,
 "nbformat_minor": 2
}
