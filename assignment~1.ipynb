{
 "cells": [
  {
   "cell_type": "code",
   "execution_count": 27,
   "metadata": {},
   "outputs": [
    {
     "name": "stdout",
     "output_type": "stream",
     "text": [
      "('first_number+second_number=', 50)\n",
      "('first_number-second_number=', -10)\n",
      "('first_number*second_number=', 600)\n",
      "('first_number/second_number=', 0)\n",
      "('first_number//secon_number=', 0)\n",
      "('first_number%second_number=', 20)\n",
      "('first_number**second_number=', 1073741824000000000000000000000000000000L)\n"
     ]
    }
   ],
   "source": [
    "# operators\n",
    "# arithametic operators\n",
    "first_number=20\n",
    "second_number=30\n",
    "print (\"first_number+second_number=\",first_number+second_number)\n",
    "print(\"first_number-second_number=\",first_number-second_number)\n",
    "print(\"first_number*second_number=\",first_number*second_number)\n",
    "print(\"first_number/second_number=\",first_number/second_number)\n",
    "print(\"first_number//secon_number=\",first_number//second_number)\n",
    "print(\"first_number%second_number=\",first_number%second_number)\n",
    "print(\"first_number**second_number=\",first_number**second_number)"
   ]
  },
  {
   "cell_type": "code",
   "execution_count": 59,
   "metadata": {},
   "outputs": [
    {
     "name": "stdout",
     "output_type": "stream",
     "text": [
      "('x and y is', 20)\n",
      "('x or y is', 10)\n",
      "('not x is', False)\n"
     ]
    }
   ],
   "source": [
    "# boolean operators\n",
    "x=10 #true\n",
    "y=20  #false\n",
    "print(\"x and y is\",x and y)\n",
    "print(\"x or y is\",x or y)\n",
    "print(\"not x is\",not x)\n",
    "    "
   ]
  },
  {
   "cell_type": "code",
   "execution_count": 60,
   "metadata": {},
   "outputs": [
    {
     "name": "stdout",
     "output_type": "stream",
     "text": [
      "('bitwise and=', 0)\n",
      "('bitwise or=', 10)\n",
      "('bitwise xor=', 30)\n",
      "('a rightshift by 2', 2)\n",
      "('a leftshift by 2', 80)\n"
     ]
    }
   ],
   "source": [
    "# bitwise opertors\n",
    "a=10\n",
    "b=20\n",
    "print(\"bitwise and=\",a & b)\n",
    "print(\"bitwise or=\",a or b)\n",
    "print(\"bitwise xor=\",a ^ b)\n",
    "print(\"a rightshift by 2\",a>>2)\n",
    "print(\"a leftshift by 2\",b<<2)\n"
   ]
  },
  {
   "cell_type": "code",
   "execution_count": 64,
   "metadata": {},
   "outputs": [
    {
     "name": "stdout",
     "output_type": "stream",
     "text": [
      "('number1+number2=', 15)\n",
      "('number1-number2=', -5)\n",
      "('number1*numbr2=', 50)\n",
      "('numbe1/number2=', 0)\n",
      "('number1//numbr2=', 0)\n",
      "('number1%number2=', 5)\n",
      "('number1**number2=', 9765625)\n"
     ]
    }
   ],
   "source": [
    "# integernumber\n",
    "# arithmetic operators\n",
    "number1=5\n",
    "number2=10\n",
    "print(\"number1+number2=\",number1+number2)\n",
    "print(\"number1-number2=\",number1-number2)\n",
    "print(\"number1*numbr2=\",number1*number2)\n",
    "print(\"numbe1/number2=\",number1/number2)\n",
    "print(\"number1//numbr2=\",number1//number2)\n",
    "print(\"number1%number2=\",number1%number2)\n",
    "print(\"number1**number2=\",number1**number2)\n",
    "\n",
    " "
   ]
  },
  {
   "cell_type": "code",
   "execution_count": 70,
   "metadata": {},
   "outputs": [
    {
     "name": "stdout",
     "output_type": "stream",
     "text": [
      "('a and b', 30)\n",
      "('a or b', 20)\n",
      "('not of a', False)\n"
     ]
    }
   ],
   "source": [
    "# integer\n",
    "# boolean operators\n",
    "a=20 # true\n",
    "b=30 # false\n",
    "print(\"a and b\",a and b)\n",
    "print(\"a or b\", a or b)\n",
    "print(\"not of a\",not a)\n"
   ]
  },
  {
   "cell_type": "code",
   "execution_count": 81,
   "metadata": {},
   "outputs": [
    {
     "name": "stdout",
     "output_type": "stream",
     "text": [
      "('bitwise and=', 0)\n",
      "('bitwis or=', 60)\n",
      "('bitwis xor=', 60)\n",
      "('first_number rightshift by 2', 5)\n",
      "('second_number leftshift by 2', 160)\n"
     ]
    }
   ],
   "source": [
    "# integer \n",
    "# bitwise operator\n",
    "first_number=20\n",
    "second_number=40\n",
    "print(\"bitwise and=\",first_number & second_number)\n",
    "print(\"bitwis or=\",first_number | second_number)\n",
    "print(\"bitwis xor=\",first_number ^ second_number)\n",
    "print(\"first_number rightshift by 2\",first_number>>2)\n",
    "print(\"second_number leftshift by 2\",second_number<<2)\n"
   ]
  },
  {
   "cell_type": "code",
   "execution_count": 83,
   "metadata": {},
   "outputs": [
    {
     "name": "stdout",
     "output_type": "stream",
     "text": [
      "('x+y=', 6.0)\n",
      "('x-y=', -1.0)\n",
      "('x*y=', 8.75)\n",
      "('x/y=', 0.7142857142857143)\n",
      "('x//y=', 0.0)\n",
      "('x%y=', 2.5)\n",
      "('x**y=', 24.705294220065465)\n"
     ]
    }
   ],
   "source": [
    "# float (floating)\n",
    "# arithmetic operator\n",
    "x=2.5\n",
    "y=3.5\n",
    "print(\"x+y=\",x+y)\n",
    "print(\"x-y=\",x-y)\n",
    "print(\"x*y=\",x*y)\n",
    "print(\"x/y=\",x/y)\n",
    "print('x//y=',x//y)\n",
    "print(\"x%y=\",x%y)\n",
    "print(\"x**y=\",x**y)"
   ]
  },
  {
   "cell_type": "code",
   "execution_count": 85,
   "metadata": {},
   "outputs": [
    {
     "name": "stdout",
     "output_type": "stream",
     "text": [
      "('a and b', 7.5)\n",
      "('a or b', 10.5)\n",
      "('not of a', False)\n"
     ]
    }
   ],
   "source": [
    "# float\n",
    "# boolean operators\n",
    "a=10.5\n",
    "b=7.5\n",
    "print (\"a and b\", a and b)\n",
    "print(\"a or b\",a or b)\n",
    "print(\"not of a\",not a)"
   ]
  },
  {
   "cell_type": "code",
   "execution_count": 96,
   "metadata": {},
   "outputs": [
    {
     "ename": "TypeError",
     "evalue": "unsupported operand type(s) for &: 'float' and 'float'",
     "output_type": "error",
     "traceback": [
      "\u001b[1;31m---------------------------------------------------------------------------\u001b[0m",
      "\u001b[1;31mTypeError\u001b[0m                                 Traceback (most recent call last)",
      "\u001b[1;32m<ipython-input-96-66191be50efa>\u001b[0m in \u001b[0;36m<module>\u001b[1;34m()\u001b[0m\n\u001b[0;32m      3\u001b[0m \u001b[0mnumber1\u001b[0m\u001b[1;33m=\u001b[0m\u001b[1;36m10.5\u001b[0m\u001b[1;33m\u001b[0m\u001b[0m\n\u001b[0;32m      4\u001b[0m \u001b[0mnumber2\u001b[0m\u001b[1;33m=\u001b[0m\u001b[1;36m15.5\u001b[0m\u001b[1;33m\u001b[0m\u001b[0m\n\u001b[1;32m----> 5\u001b[1;33m \u001b[1;32mprint\u001b[0m\u001b[1;33m(\u001b[0m\u001b[1;34m\"bitwise and=\"\u001b[0m\u001b[1;33m,\u001b[0m\u001b[0mnumber1\u001b[0m \u001b[1;33m&\u001b[0m \u001b[0mnumber2\u001b[0m\u001b[1;33m)\u001b[0m\u001b[1;33m\u001b[0m\u001b[0m\n\u001b[0m\u001b[0;32m      6\u001b[0m \u001b[1;32mprint\u001b[0m\u001b[1;33m(\u001b[0m\u001b[1;34m\"bitwise or=\"\u001b[0m\u001b[1;33m,\u001b[0m\u001b[0mnumber1\u001b[0m \u001b[1;33m|\u001b[0m \u001b[0mnumber2\u001b[0m\u001b[1;33m)\u001b[0m\u001b[1;33m\u001b[0m\u001b[0m\n\u001b[0;32m      7\u001b[0m \u001b[1;32mprint\u001b[0m\u001b[1;33m(\u001b[0m\u001b[1;34m\"bitwise xor=\"\u001b[0m\u001b[1;33m,\u001b[0m\u001b[0mnumber1\u001b[0m \u001b[1;33m^\u001b[0m \u001b[0mnumber2\u001b[0m\u001b[1;33m)\u001b[0m\u001b[1;33m\u001b[0m\u001b[0m\n",
      "\u001b[1;31mTypeError\u001b[0m: unsupported operand type(s) for &: 'float' and 'float'"
     ]
    }
   ],
   "source": [
    "# float\n",
    "# bitwise operator\n",
    "number1=10.5\n",
    "number2=15.5\n",
    "print(\"bitwise and=\",number1 & number2)\n",
    "print(\"bitwise or=\",number1 | number2)\n",
    "print(\"bitwise xor=\",number1 ^ number2)\n",
    "print(\"number1 rightshift by 2\",number1>>2)\n",
    "print(\"number2 leftshift by 2\",number2<<2)\n"
   ]
  },
  {
   "cell_type": "code",
   "execution_count": 106,
   "metadata": {},
   "outputs": [
    {
     "name": "stdout",
     "output_type": "stream",
     "text": [
      "('a+b=', (4+7j))\n",
      "('a-b=', (-2-1j))\n",
      "('a*b=', (-9+13j))\n",
      "('a/b=', (0.6+0.2j))\n",
      "('a//b=', 0j)\n",
      "('a**b=', (-0.10222870991838115+0.18787528250860938j))\n",
      "('a%b=', (1+3j))\n",
      "('a and b', (8+10j))\n",
      "('a or b', (1+3j))\n",
      "('not of a', False)\n"
     ]
    },
    {
     "name": "stderr",
     "output_type": "stream",
     "text": [
      "C:\\Users\\Dr. YAMUNA\\Anaconda2\\lib\\site-packages\\ipykernel_launcher.py:9: DeprecationWarning: complex divmod(), // and % are deprecated\n",
      "  if __name__ == '__main__':\n",
      "C:\\Users\\Dr. YAMUNA\\Anaconda2\\lib\\site-packages\\ipykernel_launcher.py:11: DeprecationWarning: complex divmod(), // and % are deprecated\n",
      "  # This is added back by InteractiveShellApp.init_path()\n"
     ]
    }
   ],
   "source": [
    "# complex\n",
    "# arithmetic operator\n",
    "a=1+3j\n",
    "b=3+4j\n",
    "print(\"a+b=\",a+b)\n",
    "print(\"a-b=\",a-b)\n",
    "print(\"a*b=\",a*b)\n",
    "print(\"a/b=\",a/b)\n",
    "print(\"a//b=\",a//b)\n",
    "print(\"a**b=\",a**b)\n",
    "print(\"a%b=\",a%b)\n",
    "\n",
    "# boolean operators\n",
    "a=(1+3j)\n",
    "b=(3+4j)+(5+6j)\n",
    "print(\"a and b\",a and b)\n",
    "print(\"a or b\",a or b)\n",
    "print(\"not of a\",not a)\n"
   ]
  },
  {
   "cell_type": "code",
   "execution_count": 114,
   "metadata": {},
   "outputs": [
    {
     "ename": "TypeError",
     "evalue": "unsupported operand type(s) for &: 'complex' and 'complex'",
     "output_type": "error",
     "traceback": [
      "\u001b[1;31m---------------------------------------------------------------------------\u001b[0m",
      "\u001b[1;31mTypeError\u001b[0m                                 Traceback (most recent call last)",
      "\u001b[1;32m<ipython-input-114-530a80c1e1b4>\u001b[0m in \u001b[0;36m<module>\u001b[1;34m()\u001b[0m\n\u001b[0;32m      2\u001b[0m \u001b[0ma\u001b[0m\u001b[1;33m=\u001b[0m\u001b[1;36m10\u001b[0m\u001b[1;33m+\u001b[0m\u001b[1;36m5j\u001b[0m\u001b[1;33m\u001b[0m\u001b[0m\n\u001b[0;32m      3\u001b[0m \u001b[0mb\u001b[0m\u001b[1;33m=\u001b[0m\u001b[1;36m5\u001b[0m\u001b[1;33m+\u001b[0m\u001b[1;36m6j\u001b[0m\u001b[1;33m\u001b[0m\u001b[0m\n\u001b[1;32m----> 4\u001b[1;33m \u001b[1;32mprint\u001b[0m \u001b[1;33m(\u001b[0m\u001b[1;34m\"bitwise and=\"\u001b[0m\u001b[1;33m,\u001b[0m\u001b[0ma\u001b[0m \u001b[1;33m&\u001b[0m \u001b[0mb\u001b[0m\u001b[1;33m)\u001b[0m\u001b[1;33m\u001b[0m\u001b[0m\n\u001b[0m\u001b[0;32m      5\u001b[0m \u001b[1;32mprint\u001b[0m\u001b[1;33m(\u001b[0m\u001b[1;34m\"bitwise or=\"\u001b[0m\u001b[1;33m,\u001b[0m\u001b[0ma\u001b[0m \u001b[1;33m|\u001b[0m \u001b[0mb\u001b[0m\u001b[1;33m)\u001b[0m\u001b[1;33m\u001b[0m\u001b[0m\n\u001b[0;32m      6\u001b[0m \u001b[1;32mprint\u001b[0m\u001b[1;33m(\u001b[0m\u001b[1;34m\"bitwise xor=\"\u001b[0m\u001b[1;33m,\u001b[0m\u001b[0ma\u001b[0m \u001b[1;33m^\u001b[0m \u001b[0mb\u001b[0m\u001b[1;33m)\u001b[0m\u001b[1;33m\u001b[0m\u001b[0m\n",
      "\u001b[1;31mTypeError\u001b[0m: unsupported operand type(s) for &: 'complex' and 'complex'"
     ]
    }
   ],
   "source": [
    "# bitwise operators\n",
    "a=10+5j\n",
    "b=5+6j\n",
    "print (\"bitwise and=\",a & b)\n",
    "print(\"bitwise or=\",a | b)\n",
    "print(\"bitwise xor=\",a ^ b)\n",
    "print(\"a rightshift by 2\",a>>2)\n",
    "print(\"b leftshift by 2\",b<<2)"
   ]
  },
  {
   "cell_type": "code",
   "execution_count": 111,
   "metadata": {},
   "outputs": [
    {
     "name": "stdout",
     "output_type": "stream",
     "text": [
      "('a and b', (8+10j))\n",
      "('a or b', (1+3j))\n",
      "('not of a', False)\n"
     ]
    }
   ],
   "source": [
    "# boolean operators\n",
    "a=(1+3j)\n",
    "b=(3+4j)+(5+6j)\n",
    "print(\"a and b\",a and b)\n",
    "print(\"a or b\",a or b)\n",
    "print(\"not of a\",not a)"
   ]
  },
  {
   "cell_type": "code",
   "execution_count": 128,
   "metadata": {},
   "outputs": [
    {
     "name": "stdout",
     "output_type": "stream",
     "text": [
      "goodmorning\n"
     ]
    }
   ],
   "source": [
    "# strings\n",
    "a=\"good\"\n",
    "b=\"morning\"\n",
    "print a+b"
   ]
  },
  {
   "cell_type": "code",
   "execution_count": 129,
   "metadata": {},
   "outputs": [
    {
     "name": "stdout",
     "output_type": "stream",
     "text": [
      "pythontutorial\n"
     ]
    }
   ],
   "source": [
    "first='python'\n",
    "second='tutorial'\n",
    "print str(first+second)"
   ]
  },
  {
   "cell_type": "code",
   "execution_count": 136,
   "metadata": {},
   "outputs": [
    {
     "name": "stdout",
     "output_type": "stream",
     "text": [
      "khyaathikhyaathikhyaathikhyaathikhyaathi\n"
     ]
    }
   ],
   "source": [
    "name=\"khyaathi\"\n",
    "print str(name*5)"
   ]
  },
  {
   "cell_type": "code",
   "execution_count": 142,
   "metadata": {},
   "outputs": [
    {
     "name": "stdout",
     "output_type": "stream",
     "text": [
      "ureka\n"
     ]
    }
   ],
   "source": [
    "string1=\"edureka\"\n",
    "print string1[2:7]"
   ]
  },
  {
   "cell_type": "code",
   "execution_count": 149,
   "metadata": {},
   "outputs": [
    {
     "ename": "SyntaxError",
     "evalue": "EOL while scanning string literal (<ipython-input-149-82276aff7639>, line 2)",
     "output_type": "error",
     "traceback": [
      "\u001b[1;36m  File \u001b[1;32m\"<ipython-input-149-82276aff7639>\"\u001b[1;36m, line \u001b[1;32m2\u001b[0m\n\u001b[1;33m    print str(\"string1[-1]+string[1])\u001b[0m\n\u001b[1;37m                                    ^\u001b[0m\n\u001b[1;31mSyntaxError\u001b[0m\u001b[1;31m:\u001b[0m EOL while scanning string literal\n"
     ]
    }
   ],
   "source": [
    "string1=\"edureka\"\n",
    "print string1[-1]+string[1]"
   ]
  }
 ],
 "metadata": {
  "kernelspec": {
   "display_name": "Python 2",
   "language": "python",
   "name": "python2"
  },
  "language_info": {
   "codemirror_mode": {
    "name": "ipython",
    "version": 2
   },
   "file_extension": ".py",
   "mimetype": "text/x-python",
   "name": "python",
   "nbconvert_exporter": "python",
   "pygments_lexer": "ipython2",
   "version": "2.7.15"
  }
 },
 "nbformat": 4,
 "nbformat_minor": 2
}
