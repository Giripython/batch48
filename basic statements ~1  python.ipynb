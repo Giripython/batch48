{
 "cells": [
  {
   "cell_type": "code",
   "execution_count": 1,
   "metadata": {},
   "outputs": [
    {
     "name": "stdout",
     "output_type": "stream",
     "text": [
      "hello world\n"
     ]
    }
   ],
   "source": [
    "print \"hello world\""
   ]
  },
  {
   "cell_type": "code",
   "execution_count": 2,
   "metadata": {},
   "outputs": [
    {
     "name": "stdout",
     "output_type": "stream",
     "text": [
      "good morning to every body\n",
      "wel come to khyaathi institute\n"
     ]
    }
   ],
   "source": [
    "print \"good morning to every body\"\n",
    "print \"wel come to khyaathi institute\""
   ]
  },
  {
   "cell_type": "code",
   "execution_count": 3,
   "metadata": {},
   "outputs": [
    {
     "name": "stdout",
     "output_type": "stream",
     "text": [
      "hi\n",
      "my name is yadagriri\n",
      "i'm from palamuru\n"
     ]
    }
   ],
   "source": [
    "print \"hi\"\n",
    "print \"my name is yadagriri\"\n",
    "print \"i'm from palamuru\""
   ]
  },
  {
   "cell_type": "code",
   "execution_count": 4,
   "metadata": {},
   "outputs": [
    {
     "name": "stdout",
     "output_type": "stream",
     "text": [
      "good morning to all of you\n",
      "tody start the class python basics\n"
     ]
    }
   ],
   "source": [
    "print \"good morning to all of you\"\n",
    "print \"tody start the class python basics\""
   ]
  },
  {
   "cell_type": "code",
   "execution_count": 6,
   "metadata": {},
   "outputs": [
    {
     "name": "stdout",
     "output_type": "stream",
     "text": [
      "tell me about introduce my self\n",
      "my name is yadagiri\n",
      "my nagetive place palamuru\n",
      "i am completed b.tech\n",
      "i am working platform CATIA HYPERMESH\n",
      "my company vituell tech near by hitech city\n"
     ]
    }
   ],
   "source": [
    "print \"tell me about introduce my self\"\n",
    "print \"my name is yadagiri\"\n",
    "print \"my nagetive place palamuru\"\n",
    "print \"i am completed b.tech\"\n",
    "print \"i am working platform CATIA HYPERMESH\"\n",
    "print \"my company vituell tech near by hitech city\""
   ]
  },
  {
   "cell_type": "code",
   "execution_count": 8,
   "metadata": {},
   "outputs": [
    {
     "name": "stdout",
     "output_type": "stream",
     "text": [
      "good morning\n",
      "today wakeup to 8'o clock\n",
      "after 9'o clock completed breackfast\n",
      "practice previous work\n"
     ]
    }
   ],
   "source": [
    "print\"good morning\"\n",
    "print \"today wakeup to 8'o clock\"\n",
    "print \"after 9'o clock completed breackfast\"\n",
    "print \"practice previous work\"\n"
   ]
  },
  {
   "cell_type": "code",
   "execution_count": 13,
   "metadata": {},
   "outputs": [
    {
     "name": "stdout",
     "output_type": "stream",
     "text": [
      "nani,thirumal,srikanth,giri,pavan,barathvaj\n",
      "good morning all of you\n",
      "wel come to khyaathi institute\n"
     ]
    }
   ],
   "source": [
    "print \"nani,thirumal,srikanth,giri,pavan,barathvaj\"\n",
    "print \"good morning all of you\"\n",
    "print \"wel come to khyaathi institute\""
   ]
  },
  {
   "cell_type": "code",
   "execution_count": 14,
   "metadata": {},
   "outputs": [
    {
     "name": "stdout",
     "output_type": "stream",
     "text": [
      "good morning\n",
      "good after noon\n",
      "good evening\n",
      "good nyt\n"
     ]
    }
   ],
   "source": [
    "print \"good morning\"\n",
    "print \"good after noon\"\n",
    "print \"good evening\"\n",
    "print \"good nyt\""
   ]
  }
 ],
 "metadata": {
  "kernelspec": {
   "display_name": "Python 2",
   "language": "python",
   "name": "python2"
  },
  "language_info": {
   "codemirror_mode": {
    "name": "ipython",
    "version": 2
   },
   "file_extension": ".py",
   "mimetype": "text/x-python",
   "name": "python",
   "nbconvert_exporter": "python",
   "pygments_lexer": "ipython2",
   "version": "2.7.15"
  }
 },
 "nbformat": 4,
 "nbformat_minor": 2
}
