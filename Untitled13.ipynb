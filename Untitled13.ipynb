{
 "cells": [
  {
   "cell_type": "code",
   "execution_count": 45,
   "metadata": {},
   "outputs": [
    {
     "name": "stdout",
     "output_type": "stream",
     "text": [
      "this is room\n"
     ]
    }
   ],
   "source": [
    "def fun():\n",
    "    print(\"this is hstl\")\n",
    "class emp:\n",
    "        print(\"this is room\")"
   ]
  },
  {
   "cell_type": "code",
   "execution_count": 46,
   "metadata": {},
   "outputs": [
    {
     "name": "stdout",
     "output_type": "stream",
     "text": [
      "this is val1\n"
     ]
    }
   ],
   "source": [
    "def fun():\n",
    "    a=10\n",
    "    b=20\n",
    "    value=a+b\n",
    "    print(\"this is value\")\n",
    "class emp:\n",
    "        a1=30\n",
    "        b1=40\n",
    "        val1=a1-b1\n",
    "        print(\"this is val1\")"
   ]
  },
  {
   "cell_type": "code",
   "execution_count": 48,
   "metadata": {},
   "outputs": [
    {
     "name": "stdout",
     "output_type": "stream",
     "text": [
      "thirumal\n",
      "28\n"
     ]
    }
   ],
   "source": [
    "class emp:\n",
    "    name=\"thirumal\"\n",
    "    age=28\n",
    "    print name\n",
    "    print age"
   ]
  },
  {
   "cell_type": "code",
   "execution_count": 54,
   "metadata": {},
   "outputs": [
    {
     "ename": "SyntaxError",
     "evalue": "invalid syntax (<ipython-input-54-843a20283b77>, line 1)",
     "output_type": "error",
     "traceback": [
      "\u001b[1;36m  File \u001b[1;32m\"<ipython-input-54-843a20283b77>\"\u001b[1;36m, line \u001b[1;32m1\u001b[0m\n\u001b[1;33m    def fun emp(a,b):\u001b[0m\n\u001b[1;37m              ^\u001b[0m\n\u001b[1;31mSyntaxError\u001b[0m\u001b[1;31m:\u001b[0m invalid syntax\n"
     ]
    }
   ],
   "source": [
    "def fun emp(a,b):\n",
    "    print \"a=\",a\n",
    "    print \"b=\",b\n",
    "    name=\"thirumal\"\n",
    "    age=26\n",
    "    print emp.name\n",
    "    print emp.age"
   ]
  },
  {
   "cell_type": "code",
   "execution_count": 57,
   "metadata": {},
   "outputs": [],
   "source": [
    "balance = 0\n",
    "def deposit(amount):\n",
    "    global balance\n",
    "    balnce += amount\n",
    "    return balance\n",
    "def withdra(amount):\n",
    "    global balance\n",
    "    balnce += amount\n",
    "    return balance"
   ]
  }
 ],
 "metadata": {
  "kernelspec": {
   "display_name": "Python 2",
   "language": "python",
   "name": "python2"
  },
  "language_info": {
   "codemirror_mode": {
    "name": "ipython",
    "version": 2
   },
   "file_extension": ".py",
   "mimetype": "text/x-python",
   "name": "python",
   "nbconvert_exporter": "python",
   "pygments_lexer": "ipython2",
   "version": "2.7.15"
  }
 },
 "nbformat": 4,
 "nbformat_minor": 2
}
