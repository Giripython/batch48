{
 "cells": [
  {
   "cell_type": "code",
   "execution_count": 2,
   "metadata": {},
   "outputs": [
    {
     "name": "stdout",
     "output_type": "stream",
     "text": [
      " number is:5 \n"
     ]
    }
   ],
   "source": [
    "# python nummber (integer,floating point,complex)\n",
    "\n",
    "\n",
    "a=5\n",
    "print \" number is:%d \"%a"
   ]
  },
  {
   "cell_type": "code",
   "execution_count": 3,
   "metadata": {},
   "outputs": [
    {
     "name": "stdout",
     "output_type": "stream",
     "text": [
      "hello world\n"
     ]
    }
   ],
   "source": [
    "a=\"hello world\"\n",
    "print \"%s\"%a"
   ]
  },
  {
   "cell_type": "code",
   "execution_count": 5,
   "metadata": {},
   "outputs": [
    {
     "name": "stdout",
     "output_type": "stream",
     "text": [
      " 1.50 \n"
     ]
    }
   ],
   "source": [
    "x=1.500000\n",
    "print \" %.2f \"%x\n"
   ]
  },
  {
   "cell_type": "code",
   "execution_count": 6,
   "metadata": {},
   "outputs": [
    {
     "name": "stdout",
     "output_type": "stream",
     "text": [
      " number is:1.500000\n"
     ]
    }
   ],
   "source": [
    "ramu=1.5\n",
    "print \" number is:%f\"%ramu"
   ]
  },
  {
   "cell_type": "code",
   "execution_count": 7,
   "metadata": {},
   "outputs": [
    {
     "name": "stdout",
     "output_type": "stream",
     "text": [
      " number is:1.50\n"
     ]
    }
   ],
   "source": [
    "ramu=1.5\n",
    "print \" number is:%.2f\"%ramu"
   ]
  },
  {
   "cell_type": "code",
   "execution_count": 8,
   "metadata": {},
   "outputs": [
    {
     "name": "stdout",
     "output_type": "stream",
     "text": [
      "number is:2.500000\n"
     ]
    }
   ],
   "source": [
    "a=2.5\n",
    "print \"number is:%f\"%a"
   ]
  },
  {
   "cell_type": "code",
   "execution_count": 12,
   "metadata": {},
   "outputs": [
    {
     "ename": "TypeError",
     "evalue": "%d format: a number is required, not complex",
     "output_type": "error",
     "traceback": [
      "\u001b[1;31m---------------------------------------------------------------------------\u001b[0m",
      "\u001b[1;31mTypeError\u001b[0m                                 Traceback (most recent call last)",
      "\u001b[1;32m<ipython-input-12-f02daed365b7>\u001b[0m in \u001b[0;36m<module>\u001b[1;34m()\u001b[0m\n\u001b[0;32m      1\u001b[0m \u001b[0mc\u001b[0m\u001b[1;33m=\u001b[0m\u001b[1;36m1\u001b[0m\u001b[1;33m+\u001b[0m\u001b[1;36m4j\u001b[0m\u001b[1;33m\u001b[0m\u001b[0m\n\u001b[1;32m----> 2\u001b[1;33m \u001b[1;32mprint\u001b[0m \u001b[1;34m\"number is:%d\"\u001b[0m\u001b[1;33m%\u001b[0m\u001b[0mc\u001b[0m\u001b[1;33m\u001b[0m\u001b[0m\n\u001b[0m",
      "\u001b[1;31mTypeError\u001b[0m: %d format: a number is required, not complex"
     ]
    }
   ],
   "source": [
    "c=1+4j\n",
    "print \"number is:%d\"%c"
   ]
  },
  {
   "cell_type": "code",
   "execution_count": 14,
   "metadata": {},
   "outputs": [
    {
     "name": "stdout",
     "output_type": "stream",
     "text": [
      "number is: 1+4j \n"
     ]
    }
   ],
   "source": [
    "c=\" 1+4j \"\n",
    "print \"number is:%s\"%c"
   ]
  },
  {
   "cell_type": "code",
   "execution_count": 15,
   "metadata": {},
   "outputs": [
    {
     "ename": "TypeError",
     "evalue": "float argument required, not complex",
     "output_type": "error",
     "traceback": [
      "\u001b[1;31m---------------------------------------------------------------------------\u001b[0m",
      "\u001b[1;31mTypeError\u001b[0m                                 Traceback (most recent call last)",
      "\u001b[1;32m<ipython-input-15-198bd14c14ca>\u001b[0m in \u001b[0;36m<module>\u001b[1;34m()\u001b[0m\n\u001b[0;32m      1\u001b[0m \u001b[0mc\u001b[0m\u001b[1;33m=\u001b[0m\u001b[1;36m1\u001b[0m\u001b[1;33m+\u001b[0m\u001b[1;36m4j\u001b[0m\u001b[1;33m\u001b[0m\u001b[0m\n\u001b[1;32m----> 2\u001b[1;33m \u001b[1;32mprint\u001b[0m \u001b[1;34m\"number is:%f\"\u001b[0m\u001b[1;33m%\u001b[0m\u001b[0mc\u001b[0m\u001b[1;33m\u001b[0m\u001b[0m\n\u001b[0m",
      "\u001b[1;31mTypeError\u001b[0m: float argument required, not complex"
     ]
    }
   ],
   "source": [
    "c=1+4j\n",
    "print \"number is:%f\"%c"
   ]
  },
  {
   "cell_type": "code",
   "execution_count": 19,
   "metadata": {},
   "outputs": [
    {
     "name": "stdout",
     "output_type": "stream",
     "text": [
      "name is: ramudu , age is:18, height is:5.6, place is: malleswaram \n"
     ]
    }
   ],
   "source": [
    "name= \" ramudu \"\n",
    "age=18\n",
    "height=5.6\n",
    "place=\" malleswaram \"\n",
    "\n",
    "print \"name is:%s, age is:%d, height is:%.1f, place is:%s\"%(name,age,height,place)"
   ]
  },
  {
   "cell_type": "code",
   "execution_count": 20,
   "metadata": {},
   "outputs": [
    {
     "name": "stdout",
     "output_type": "stream",
     "text": [
      "name is: ramudu \n",
      ", age is:18\n",
      ", height is:5.6\n",
      ", place is: malleswaram \n",
      "\n"
     ]
    }
   ],
   "source": [
    "name= \" ramudu \"\n",
    "age=18\n",
    "height=5.6\n",
    "place=\" malleswaram \"\n",
    "\n",
    "print \"name is:%s\\n, age is:%d\\n, height is:%.1f\\n, place is:%s\\n\"%(name,age,height,place)"
   ]
  },
  {
   "cell_type": "code",
   "execution_count": 21,
   "metadata": {},
   "outputs": [
    {
     "name": "stdout",
     "output_type": "stream",
     "text": [
      "name is: ramudu \n",
      " age is:18\n",
      " height is:5.6\n",
      " place is: malleswaram \n",
      "\n"
     ]
    }
   ],
   "source": [
    "name= \" ramudu \"\n",
    "age=18\n",
    "height=5.6\n",
    "place=\" malleswaram \"\n",
    "\n",
    "print \"name is:%s\\n age is:%d\\n height is:%.1f\\n place is:%s\\n\"%(name,age,height,place)"
   ]
  },
  {
   "cell_type": "code",
   "execution_count": 23,
   "metadata": {},
   "outputs": [
    {
     "name": "stdout",
     "output_type": "stream",
     "text": [
      " x+yj \n"
     ]
    }
   ],
   "source": [
    "c=\"x+yj \"\n",
    "print c"
   ]
  },
  {
   "cell_type": "code",
   "execution_count": 26,
   "metadata": {},
   "outputs": [
    {
     "name": "stdout",
     "output_type": "stream",
     "text": [
      " a+bj \n"
     ]
    }
   ],
   "source": [
    "a=\" a+bj \"\n",
    "print a"
   ]
  },
  {
   "cell_type": "code",
   "execution_count": 29,
   "metadata": {},
   "outputs": [
    {
     "name": "stdout",
     "output_type": "stream",
     "text": [
      "[1, 2, 3, 4, 5, 6]\n"
     ]
    }
   ],
   "source": [
    "#  python list\n",
    "\n",
    "a=[1,2,3,4,5,6]\n",
    "print a\n",
    "\n"
   ]
  },
  {
   "cell_type": "code",
   "execution_count": 30,
   "metadata": {},
   "outputs": [
    {
     "name": "stdout",
     "output_type": "stream",
     "text": [
      "[1, 2, 3, 4, 5, 6, 10, 11, 12, 13, 14]\n"
     ]
    }
   ],
   "source": [
    "a=[1,2,3,4,5,6]\n",
    "b=[10,11,12,13,14]\n",
    "print a+b"
   ]
  },
  {
   "cell_type": "code",
   "execution_count": 32,
   "metadata": {},
   "outputs": [
    {
     "name": "stdout",
     "output_type": "stream",
     "text": [
      "['ramu,ragu,venu']\n"
     ]
    }
   ],
   "source": [
    "a=[\"ramu,ragu,venu\"]\n",
    "print a"
   ]
  },
  {
   "cell_type": "code",
   "execution_count": 36,
   "metadata": {},
   "outputs": [
    {
     "name": "stdout",
     "output_type": "stream",
     "text": [
      "ramu,ragu,venu\n"
     ]
    }
   ],
   "source": [
    "a=[\"ramu,ragu,venu\"]\n",
    "print a[0]"
   ]
  },
  {
   "cell_type": "code",
   "execution_count": 37,
   "metadata": {},
   "outputs": [
    {
     "name": "stdout",
     "output_type": "stream",
     "text": [
      "['venu,vimala,vishu']\n"
     ]
    }
   ],
   "source": [
    "ramu=[\"venu,vimala,vishu\"]\n",
    "print ramu"
   ]
  },
  {
   "cell_type": "code",
   "execution_count": 39,
   "metadata": {},
   "outputs": [
    {
     "name": "stdout",
     "output_type": "stream",
     "text": [
      "('a[2]=', 3)\n"
     ]
    }
   ],
   "source": [
    "a=[1,2,3,4,5,6,7,8,9,10]\n",
    "\n",
    "print (\"a[2]=\",a[2])"
   ]
  },
  {
   "cell_type": "code",
   "execution_count": 40,
   "metadata": {},
   "outputs": [
    {
     "name": "stdout",
     "output_type": "stream",
     "text": [
      "a[2]= 3\n"
     ]
    }
   ],
   "source": [
    "a=[1,2,3,4,5,6,7,8,9,10]\n",
    "\n",
    "print \"a[2]=\",a[2]"
   ]
  },
  {
   "cell_type": "code",
   "execution_count": 45,
   "metadata": {},
   "outputs": [
    {
     "name": "stdout",
     "output_type": "stream",
     "text": [
      "a[2]= 3\n",
      "a[0:3]= [1, 2, 3]\n",
      "a[1:6]= [2, 3, 4, 5, 6]\n"
     ]
    }
   ],
   "source": [
    "a=[1,2,3,4,5,6,7,8,9,10]\n",
    "\n",
    "print \"a[2]=\",a[2]\n",
    "print \"a[0:3]=\",a[0:3]\n",
    "print \"a[1:6]=\",a[1:6]"
   ]
  },
  {
   "cell_type": "code",
   "execution_count": 48,
   "metadata": {},
   "outputs": [
    {
     "name": "stdout",
     "output_type": "stream",
     "text": [
      "a[4:9]= [5, 6, 7, 8, 9]\n"
     ]
    }
   ],
   "source": [
    "a=[1,2,3,4,5,6,7,8,9,10]\n",
    "\n",
    "print \"a[4:9]=\",a[4:9]"
   ]
  },
  {
   "cell_type": "code",
   "execution_count": 50,
   "metadata": {},
   "outputs": [
    {
     "name": "stdout",
     "output_type": "stream",
     "text": [
      "hello\n"
     ]
    }
   ],
   "source": [
    "a=\"hello\"\n",
    "print a"
   ]
  },
  {
   "cell_type": "code",
   "execution_count": 55,
   "metadata": {},
   "outputs": [
    {
     "name": "stdout",
     "output_type": "stream",
     "text": [
      "yadagiri\n"
     ]
    }
   ],
   "source": [
    "a=\"yadagiri\"\n",
    "print a"
   ]
  },
  {
   "cell_type": "code",
   "execution_count": 68,
   "metadata": {},
   "outputs": [
    {
     "name": "stdout",
     "output_type": "stream",
     "text": [
      "<type 'tuple'>\n",
      "(0, 1, 2, 3, 4, 5, 6)\n",
      "('a[5:-4]=', ())\n"
     ]
    }
   ],
   "source": [
    "#  Python Tuple\n",
    "\n",
    "a=(0,1,2,3,4,5,6)\n",
    "print type (a)\n",
    "print a\n",
    "print (\"a[5:-4]=\",a[5:-4])"
   ]
  },
  {
   "cell_type": "code",
   "execution_count": 69,
   "metadata": {},
   "outputs": [
    {
     "name": "stdout",
     "output_type": "stream",
     "text": [
      "<type 'tuple'>\n",
      "(0, 1, 2, 3, 4, 5, 6)\n",
      "('a[0:3]=', (0, 1, 2))\n"
     ]
    }
   ],
   "source": [
    "\n",
    "a=(0,1,2,3,4,5,6)\n",
    "print type (a)\n",
    "print a\n",
    "print (\"a[0:3]=\",a[0:3])"
   ]
  },
  {
   "cell_type": "code",
   "execution_count": 70,
   "metadata": {},
   "outputs": [
    {
     "name": "stdout",
     "output_type": "stream",
     "text": [
      "<type 'tuple'>\n",
      "(0, 1, 2, 3, 4, 5, 6)\n",
      "('a[2:5]=', (2, 3, 4))\n"
     ]
    }
   ],
   "source": [
    "\n",
    "a=(0,1,2,3,4,5,6)\n",
    "print type (a)\n",
    "print a\n",
    "print (\"a[2:5]=\",a[2:5])"
   ]
  },
  {
   "cell_type": "code",
   "execution_count": 72,
   "metadata": {},
   "outputs": [
    {
     "name": "stdout",
     "output_type": "stream",
     "text": [
      "hello world\n"
     ]
    }
   ],
   "source": [
    "a=\"hello world\"\n",
    "print (a)"
   ]
  },
  {
   "cell_type": "code",
   "execution_count": 73,
   "metadata": {},
   "outputs": [
    {
     "name": "stdout",
     "output_type": "stream",
     "text": [
      "('a[4] = ', 'o')\n"
     ]
    }
   ],
   "source": [
    "a=\"hello world\"\n",
    "print(\"a[4] = \", a[4])"
   ]
  },
  {
   "cell_type": "code",
   "execution_count": 75,
   "metadata": {},
   "outputs": [
    {
     "name": "stdout",
     "output_type": "stream",
     "text": [
      "('a[0]=', 'h')\n",
      "('a[1]=', 'e')\n",
      "('a[2]=', 'l')\n",
      "('a[3]=', 'l')\n",
      "('a[4]=', 'o')\n"
     ]
    }
   ],
   "source": [
    "a=\"hello world\"\n",
    "\n",
    "print (\"a[0]=\",a[0])\n",
    "print (\"a[1]=\",a[1])\n",
    "print (\"a[2]=\",a[2])\n",
    "print (\"a[3]=\",a[3])\n",
    "print (\"a[4]=\",a[4])\n",
    "\n"
   ]
  },
  {
   "cell_type": "code",
   "execution_count": 76,
   "metadata": {},
   "outputs": [
    {
     "name": "stdout",
     "output_type": "stream",
     "text": [
      "('a=', set([1, 2, 3, 4, 5, 6]))\n",
      "<type 'set'>\n"
     ]
    }
   ],
   "source": [
    "# Python Set\n",
    "\n",
    "a={1,2,3,4,5,6}\n",
    "print (\"a=\",a)\n",
    "print type (a)"
   ]
  },
  {
   "cell_type": "code",
   "execution_count": 80,
   "metadata": {},
   "outputs": [
    {
     "name": "stdout",
     "output_type": "stream",
     "text": [
      "('giri=', set(['thirumal,ramu,nani,gopi']))\n",
      "<type 'set'>\n"
     ]
    }
   ],
   "source": [
    "giri={\"thirumal,ramu,nani,gopi\"}\n",
    "print (\"giri=\",giri)\n",
    "print type(giri)"
   ]
  },
  {
   "cell_type": "code",
   "execution_count": 82,
   "metadata": {},
   "outputs": [
    {
     "name": "stdout",
     "output_type": "stream",
     "text": [
      "set([1, 'good'])\n"
     ]
    }
   ],
   "source": [
    "# Python Dictionary\n",
    "\n",
    "d={1,\"good\"} \n",
    "print (d)"
   ]
  },
  {
   "cell_type": "code",
   "execution_count": 86,
   "metadata": {},
   "outputs": [
    {
     "name": "stdout",
     "output_type": "stream",
     "text": [
      "set(['raju,ramu,winner,jupally'])\n",
      "<type 'set'>\n"
     ]
    }
   ],
   "source": [
    "g={\"raju,ramu,winner,jupally\"}\n",
    "print (g)\n",
    "print type (a)"
   ]
  },
  {
   "cell_type": "code",
   "execution_count": null,
   "metadata": {},
   "outputs": [],
   "source": []
  }
 ],
 "metadata": {
  "kernelspec": {
   "display_name": "Python 2",
   "language": "python",
   "name": "python2"
  },
  "language_info": {
   "codemirror_mode": {
    "name": "ipython",
    "version": 2
   },
   "file_extension": ".py",
   "mimetype": "text/x-python",
   "name": "python",
   "nbconvert_exporter": "python",
   "pygments_lexer": "ipython2",
   "version": "2.7.15"
  }
 },
 "nbformat": 4,
 "nbformat_minor": 2
}
