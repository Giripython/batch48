{
 "cells": [
  {
   "cell_type": "code",
   "execution_count": null,
   "metadata": {},
   "outputs": [],
   "source": [
    "# 2.\ttake temperature from the user and convert foreign heat -> Celsius.\n",
    "\n",
    "celsius_temperature=raw_input(\"enter temperature in celsius:\")\n",
    "c=(int(temperature)-32)*5/9\n",
    "print c"
   ]
  },
  {
   "cell_type": "code",
   "execution_count": null,
   "metadata": {},
   "outputs": [],
   "source": [
    "total_number_of_people=raw_input(\"enter total number of people:\")\n",
    "total_number_of_buses=raw_input(\"enter total number of buses:\")\n",
    "number_of_seats=raw_input(\"enter number of seats:\")\n",
    "adjust_factor=raw_input(\"enter adjust factor:\")\n",
    "if total<100:\n",
    "    print (\"adjust fctory in number of buses:\")\n",
    "else:\n",
    "    print(\"extra buses not required:\")\n",
    "    "
   ]
  },
  {
   "cell_type": "code",
   "execution_count": null,
   "metadata": {},
   "outputs": [],
   "source": [
    "a=10\n",
    "b=20\n",
    "print"
   ]
  },
  {
   "cell_type": "code",
   "execution_count": null,
   "metadata": {},
   "outputs": [],
   "source": [
    "total_number_of_people=raw_input(\"enter total number of people:\")\n",
    "total_number_of_buses=raw_input(\"enter total number of buses:\")\n",
    "number_of_seats=raw_input(\"enter number of seats:\")\n",
    "adjust_factor=raw_input(\"enter adjust factor:\")\n",
    "if total<100:\n",
    "    print (\"adjust fctory in number of buses:\")\n",
    "else:\n",
    "    print(\"extra buses not required:\")"
   ]
  },
  {
   "cell_type": "code",
   "execution_count": null,
   "metadata": {},
   "outputs": [],
   "source": []
  },
  {
   "cell_type": "code",
   "execution_count": null,
   "metadata": {},
   "outputs": [],
   "source": []
  }
 ],
 "metadata": {
  "kernelspec": {
   "display_name": "Python 2",
   "language": "python",
   "name": "python2"
  },
  "language_info": {
   "codemirror_mode": {
    "name": "ipython",
    "version": 2
   },
   "file_extension": ".py",
   "mimetype": "text/x-python",
   "name": "python",
   "nbconvert_exporter": "python",
   "pygments_lexer": "ipython2",
   "version": "2.7.15"
  }
 },
 "nbformat": 4,
 "nbformat_minor": 2
}
